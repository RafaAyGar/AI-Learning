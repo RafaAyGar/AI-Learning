{
 "cells": [
  {
   "cell_type": "markdown",
   "id": "d475d673",
   "metadata": {},
   "source": [
    "# Dummy Dataframes"
   ]
  },
  {
   "cell_type": "code",
   "execution_count": 3,
   "id": "70f55909",
   "metadata": {},
   "outputs": [],
   "source": [
    "import pandas as pd\n",
    "from numpy.random import randn, uniform"
   ]
  },
  {
   "cell_type": "code",
   "execution_count": 5,
   "id": "fd9826d1",
   "metadata": {},
   "outputs": [],
   "source": [
    "length = 100\n",
    "data = pd.DataFrame(\n",
    "     {\n",
    "         'A' : randn(length),\n",
    "         'B' : 1.5 + 2*randn(length),\n",
    "         'C' : uniform(1, 30, length)\n",
    "     }\n",
    ")"
   ]
  },
  {
   "cell_type": "code",
   "execution_count": 6,
   "id": "1c0125af",
   "metadata": {
    "collapsed": true
   },
   "outputs": [
    {
     "data": {
      "text/html": [
       "<div>\n",
       "<style scoped>\n",
       "    .dataframe tbody tr th:only-of-type {\n",
       "        vertical-align: middle;\n",
       "    }\n",
       "\n",
       "    .dataframe tbody tr th {\n",
       "        vertical-align: top;\n",
       "    }\n",
       "\n",
       "    .dataframe thead th {\n",
       "        text-align: right;\n",
       "    }\n",
       "</style>\n",
       "<table border=\"1\" class=\"dataframe\">\n",
       "  <thead>\n",
       "    <tr style=\"text-align: right;\">\n",
       "      <th></th>\n",
       "      <th>A</th>\n",
       "      <th>B</th>\n",
       "      <th>C</th>\n",
       "    </tr>\n",
       "  </thead>\n",
       "  <tbody>\n",
       "    <tr>\n",
       "      <th>count</th>\n",
       "      <td>100.000000</td>\n",
       "      <td>100.000000</td>\n",
       "      <td>100.000000</td>\n",
       "    </tr>\n",
       "    <tr>\n",
       "      <th>mean</th>\n",
       "      <td>-0.004349</td>\n",
       "      <td>1.604575</td>\n",
       "      <td>16.377987</td>\n",
       "    </tr>\n",
       "    <tr>\n",
       "      <th>std</th>\n",
       "      <td>1.037142</td>\n",
       "      <td>1.865942</td>\n",
       "      <td>8.059190</td>\n",
       "    </tr>\n",
       "    <tr>\n",
       "      <th>min</th>\n",
       "      <td>-2.262110</td>\n",
       "      <td>-2.610687</td>\n",
       "      <td>1.445434</td>\n",
       "    </tr>\n",
       "    <tr>\n",
       "      <th>25%</th>\n",
       "      <td>-0.714874</td>\n",
       "      <td>0.621721</td>\n",
       "      <td>10.098154</td>\n",
       "    </tr>\n",
       "    <tr>\n",
       "      <th>50%</th>\n",
       "      <td>-0.113850</td>\n",
       "      <td>1.732725</td>\n",
       "      <td>16.219801</td>\n",
       "    </tr>\n",
       "    <tr>\n",
       "      <th>75%</th>\n",
       "      <td>0.689903</td>\n",
       "      <td>2.663863</td>\n",
       "      <td>22.885380</td>\n",
       "    </tr>\n",
       "    <tr>\n",
       "      <th>max</th>\n",
       "      <td>2.589477</td>\n",
       "      <td>5.348074</td>\n",
       "      <td>29.932696</td>\n",
       "    </tr>\n",
       "  </tbody>\n",
       "</table>\n",
       "</div>"
      ],
      "text/plain": [
       "                A           B           C\n",
       "count  100.000000  100.000000  100.000000\n",
       "mean    -0.004349    1.604575   16.377987\n",
       "std      1.037142    1.865942    8.059190\n",
       "min     -2.262110   -2.610687    1.445434\n",
       "25%     -0.714874    0.621721   10.098154\n",
       "50%     -0.113850    1.732725   16.219801\n",
       "75%      0.689903    2.663863   22.885380\n",
       "max      2.589477    5.348074   29.932696"
      ]
     },
     "execution_count": 6,
     "metadata": {},
     "output_type": "execute_result"
    }
   ],
   "source": [
    "data.describe()"
   ]
  }
 ],
 "metadata": {
  "kernelspec": {
   "display_name": "Python 3",
   "language": "python",
   "name": "python3"
  },
  "language_info": {
   "codemirror_mode": {
    "name": "ipython",
    "version": 3
   },
   "file_extension": ".py",
   "mimetype": "text/x-python",
   "name": "python",
   "nbconvert_exporter": "python",
   "pygments_lexer": "ipython3",
   "version": "3.8.8"
  }
 },
 "nbformat": 4,
 "nbformat_minor": 5
}
