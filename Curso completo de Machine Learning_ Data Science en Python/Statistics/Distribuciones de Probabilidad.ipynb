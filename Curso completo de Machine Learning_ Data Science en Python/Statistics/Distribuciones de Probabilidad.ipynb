{
 "cells": [
  {
   "cell_type": "markdown",
   "id": "7b8fb243",
   "metadata": {},
   "source": [
    "# Distribuciones De Probabilidad"
   ]
  },
  {
   "cell_type": "markdown",
   "id": "7678795c",
   "metadata": {},
   "source": [
    "## Distribución Uniforme"
   ]
  },
  {
   "cell_type": "code",
   "execution_count": 6,
   "id": "91247339",
   "metadata": {},
   "outputs": [],
   "source": [
    "from numpy.random import uniform\n",
    "import matplotlib.pyplot as plt"
   ]
  },
  {
   "cell_type": "code",
   "execution_count": 9,
   "id": "ba085f65",
   "metadata": {
    "collapsed": true
   },
   "outputs": [
    {
     "data": {
      "text/plain": [
       "array([78.78474606, 30.22221849, 20.82078292, ...,  1.52982348,\n",
       "       18.58707631, 49.20890777])"
      ]
     },
     "execution_count": 9,
     "metadata": {},
     "output_type": "execute_result"
    }
   ],
   "source": [
    "lower_limit = 1\n",
    "upper_limit = 100\n",
    "samples_number = 10000\n",
    "uniform_data = uniform(lower_limit, upper_limit, samples_number)\n",
    "uniform_data"
   ]
  },
  {
   "cell_type": "markdown",
   "id": "432e02d4",
   "metadata": {},
   "source": [
    "### Vamos a ver un histograma de frecuencias para comprobar que es uniforme"
   ]
  },
  {
   "cell_type": "code",
   "execution_count": 10,
   "id": "0a9c75ab",
   "metadata": {
    "collapsed": true
   },
   "outputs": [
    {
     "data": {
      "text/plain": [
       "(array([1022.,  996., 1043., 1039.,  996.,  981., 1023.,  958.,  954.,\n",
       "         988.]),\n",
       " array([ 1.00036155, 10.89979552, 20.79922948, 30.69866345, 40.59809741,\n",
       "        50.49753138, 60.39696534, 70.29639931, 80.19583327, 90.09526723,\n",
       "        99.9947012 ]),\n",
       " <BarContainer object of 10 artists>)"
      ]
     },
     "execution_count": 10,
     "metadata": {},
     "output_type": "execute_result"
    },
    {
     "data": {
      "image/png": "[encoded data removed]",
      "text/plain": [
       "<Figure size 432x288 with 1 Axes>"
      ]
     },
     "metadata": {
      "needs_background": "light"
     },
     "output_type": "display_data"
    }
   ],
   "source": [
    "%matplotlib inline\n",
    "plt.hist(uniform_data)"
   ]
  },
  {
   "cell_type": "markdown",
   "id": "a4d611fd",
   "metadata": {},
   "source": [
    "## Distribución Normal\n",
    "\n",
    "Es la más frecuente"
   ]
  },
  {
   "cell_type": "code",
   "execution_count": 11,
   "id": "931c5f31",
   "metadata": {},
   "outputs": [],
   "source": [
    "from numpy.random import randn"
   ]
  },
  {
   "cell_type": "code",
   "execution_count": 19,
   "id": "5fd1c5cd",
   "metadata": {},
   "outputs": [],
   "source": [
    "# Generamos 1000 valores distribuidos de forma Normal\n",
    "data = randn(1000)"
   ]
  },
  {
   "cell_type": "code",
   "execution_count": 18,
   "id": "de2f6d34",
   "metadata": {},
   "outputs": [
    {
     "data": {
      "text/plain": [
       "(array([   50.,   619.,  4471., 15992., 30364., 29413., 14721.,  3850.,\n",
       "          483.,    37.]),\n",
       " array([-4.13881784, -3.3043945 , -2.46997116, -1.63554783, -0.80112449,\n",
       "         0.03329885,  0.86772219,  1.70214553,  2.53656886,  3.3709922 ,\n",
       "         4.20541554]),\n",
       " <BarContainer object of 10 artists>)"
      ]
     },
     "execution_count": 18,
     "metadata": {},
     "output_type": "execute_result"
    },
    {
     "data": {
      "image/png": "[encoded data removed]",
      "text/plain": [
       "<Figure size 432x288 with 1 Axes>"
      ]
     },
     "metadata": {
      "needs_background": "light"
     },
     "output_type": "display_data"
    }
   ],
   "source": [
    "plt.hist(data)"
   ]
  },
  {
   "cell_type": "code",
   "execution_count": 22,
   "id": "12ecb665",
   "metadata": {},
   "outputs": [
    {
     "data": {
      "text/plain": [
       "[<matplotlib.lines.Line2D at 0x2063a676760>]"
      ]
     },
     "execution_count": 22,
     "metadata": {},
     "output_type": "execute_result"
    },
    {
     "data": {
      "image/png": "[encoded data removed]",
      "text/plain": [
       "<Figure size 432x288 with 1 Axes>"
      ]
     },
     "metadata": {
      "needs_background": "light"
     },
     "output_type": "display_data"
    }
   ],
   "source": [
    "plt.plot(sorted(data))"
   ]
  },
  {
   "cell_type": "markdown",
   "id": "c6de6c63",
   "metadata": {},
   "source": [
    "### Si queremos una distribución normal pero que LA MEDIA NO SEA CERO..."
   ]
  },
  {
   "cell_type": "code",
   "execution_count": 23,
   "id": "1b35099f",
   "metadata": {},
   "outputs": [],
   "source": [
    "mean = 5\n",
    "std_dev = 2\n",
    "data = mean + std_dev*randn(1000)"
   ]
  },
  {
   "cell_type": "code",
   "execution_count": 25,
   "id": "929f7b5a",
   "metadata": {},
   "outputs": [
    {
     "data": {
      "text/plain": [
       "(array([  2.,  21.,  58., 134., 207., 254., 190.,  99.,  30.,   5.]),\n",
       " array([-1.75002435, -0.48195056,  0.78612323,  2.05419701,  3.3222708 ,\n",
       "         4.59034459,  5.85841838,  7.12649217,  8.39456596,  9.66263975,\n",
       "        10.93071354]),\n",
       " <BarContainer object of 10 artists>)"
      ]
     },
     "execution_count": 25,
     "metadata": {},
     "output_type": "execute_result"
    },
    {
     "data": {
      "image/png": "[encoded data removed]",
      "text/plain": [
       "<Figure size 432x288 with 1 Axes>"
      ]
     },
     "metadata": {
      "needs_background": "light"
     },
     "output_type": "display_data"
    }
   ],
   "source": [
    "plt.hist(data)"
   ]
  },
  {
   "cell_type": "code",
   "execution_count": 28,
   "id": "bb151c63",
   "metadata": {},
   "outputs": [],
   "source": [
    "data = randn(2, 1000) # Nos devuelve 2 distribuciones normales de 1000 elementos cada una"
   ]
  }
 ],
 "metadata": {
  "kernelspec": {
   "display_name": "Python 3",
   "language": "python",
   "name": "python3"
  },
  "language_info": {
   "codemirror_mode": {
    "name": "ipython",
    "version": 3
   },
   "file_extension": ".py",
   "mimetype": "text/x-python",
   "name": "python",
   "nbconvert_exporter": "python",
   "pygments_lexer": "ipython3",
   "version": "3.8.8"
  }
 },
 "nbformat": 4,
 "nbformat_minor": 5
}
