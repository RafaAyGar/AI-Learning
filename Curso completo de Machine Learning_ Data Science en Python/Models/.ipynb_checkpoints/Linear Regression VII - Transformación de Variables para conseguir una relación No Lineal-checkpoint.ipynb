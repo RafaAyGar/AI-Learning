{
 "cells": [
  {
   "cell_type": "markdown",
   "id": "35797fa8",
   "metadata": {},
   "source": [
    "# Transformación de Variables para conseguir una relación No Lineal"
   ]
  },
  {
   "cell_type": "markdown",
   "id": "7fa31b79",
   "metadata": {},
   "source": [
    "**Hay veces que la variable de salida no tiene una relación lineal con alguna de las variables de entrada, podría tener por ejemplo una relación algorítmica o exponencial, en este ....**"
   ]
  },
  {
   "cell_type": "code",
   "execution_count": 1,
   "id": "8d110d1a",
   "metadata": {},
   "outputs": [],
   "source": [
    "import pandas as pd\n",
    "import numpy as np\n",
    "from sklearn.linear_model import LinearRegression"
   ]
  },
  {
   "cell_type": "code",
   "execution_count": 2,
   "id": "9d616ba4",
   "metadata": {},
   "outputs": [
    {
     "data": {
      "text/html": [
       "<div>\n",
       "<style scoped>\n",
       "    .dataframe tbody tr th:only-of-type {\n",
       "        vertical-align: middle;\n",
       "    }\n",
       "\n",
       "    .dataframe tbody tr th {\n",
       "        vertical-align: top;\n",
       "    }\n",
       "\n",
       "    .dataframe thead th {\n",
       "        text-align: right;\n",
       "    }\n",
       "</style>\n",
       "<table border=\"1\" class=\"dataframe\">\n",
       "  <thead>\n",
       "    <tr style=\"text-align: right;\">\n",
       "      <th></th>\n",
       "      <th>mpg</th>\n",
       "      <th>cylinders</th>\n",
       "      <th>displacement</th>\n",
       "      <th>horsepower</th>\n",
       "      <th>weight</th>\n",
       "      <th>acceleration</th>\n",
       "      <th>model year</th>\n",
       "      <th>origin</th>\n",
       "      <th>car name</th>\n",
       "    </tr>\n",
       "  </thead>\n",
       "  <tbody>\n",
       "    <tr>\n",
       "      <th>0</th>\n",
       "      <td>18.0</td>\n",
       "      <td>8</td>\n",
       "      <td>307.0</td>\n",
       "      <td>130.0</td>\n",
       "      <td>3504</td>\n",
       "      <td>12.0</td>\n",
       "      <td>70</td>\n",
       "      <td>1</td>\n",
       "      <td>chevrolet chevelle malibu</td>\n",
       "    </tr>\n",
       "    <tr>\n",
       "      <th>1</th>\n",
       "      <td>15.0</td>\n",
       "      <td>8</td>\n",
       "      <td>350.0</td>\n",
       "      <td>165.0</td>\n",
       "      <td>3693</td>\n",
       "      <td>11.5</td>\n",
       "      <td>70</td>\n",
       "      <td>1</td>\n",
       "      <td>buick skylark 320</td>\n",
       "    </tr>\n",
       "    <tr>\n",
       "      <th>2</th>\n",
       "      <td>18.0</td>\n",
       "      <td>8</td>\n",
       "      <td>318.0</td>\n",
       "      <td>150.0</td>\n",
       "      <td>3436</td>\n",
       "      <td>11.0</td>\n",
       "      <td>70</td>\n",
       "      <td>1</td>\n",
       "      <td>plymouth satellite</td>\n",
       "    </tr>\n",
       "    <tr>\n",
       "      <th>3</th>\n",
       "      <td>16.0</td>\n",
       "      <td>8</td>\n",
       "      <td>304.0</td>\n",
       "      <td>150.0</td>\n",
       "      <td>3433</td>\n",
       "      <td>12.0</td>\n",
       "      <td>70</td>\n",
       "      <td>1</td>\n",
       "      <td>amc rebel sst</td>\n",
       "    </tr>\n",
       "    <tr>\n",
       "      <th>4</th>\n",
       "      <td>17.0</td>\n",
       "      <td>8</td>\n",
       "      <td>302.0</td>\n",
       "      <td>140.0</td>\n",
       "      <td>3449</td>\n",
       "      <td>10.5</td>\n",
       "      <td>70</td>\n",
       "      <td>1</td>\n",
       "      <td>ford torino</td>\n",
       "    </tr>\n",
       "  </tbody>\n",
       "</table>\n",
       "</div>"
      ],
      "text/plain": [
       "    mpg  cylinders  displacement  horsepower  weight  acceleration  \\\n",
       "0  18.0          8         307.0       130.0    3504          12.0   \n",
       "1  15.0          8         350.0       165.0    3693          11.5   \n",
       "2  18.0          8         318.0       150.0    3436          11.0   \n",
       "3  16.0          8         304.0       150.0    3433          12.0   \n",
       "4  17.0          8         302.0       140.0    3449          10.5   \n",
       "\n",
       "   model year  origin                   car name  \n",
       "0          70       1  chevrolet chevelle malibu  \n",
       "1          70       1          buick skylark 320  \n",
       "2          70       1         plymouth satellite  \n",
       "3          70       1              amc rebel sst  \n",
       "4          70       1                ford torino  "
      ]
     },
     "execution_count": 2,
     "metadata": {},
     "output_type": "execute_result"
    }
   ],
   "source": [
    "data = pd.read_csv('../datasets/auto/auto-mpg.csv')\n",
    "data.head()"
   ]
  },
  {
   "cell_type": "markdown",
   "id": "91bc3cf5",
   "metadata": {},
   "source": [
    "### Vamos a comprobar con un plot el tipo de relación que tiene el horsepower con la variable mpg (millas por galeón)"
   ]
  },
  {
   "cell_type": "code",
   "execution_count": 3,
   "id": "37fbe611",
   "metadata": {},
   "outputs": [
    {
     "data": {
      "image/png": "[encoded data removed]",
      "text/plain": [
       "<Figure size 432x288 with 1 Axes>"
      ]
     },
     "metadata": {
      "needs_background": "light"
     },
     "output_type": "display_data"
    }
   ],
   "source": [
    "import matplotlib.pyplot as plt\n",
    "%matplotlib inline\n",
    "\n",
    "data.dropna(inplace=True)\n",
    "plt.plot(data['horsepower'], data['mpg'], 'ro')\n",
    "plt.show()"
   ]
  },
  {
   "cell_type": "markdown",
   "id": "eee28966",
   "metadata": {},
   "source": [
    "### A simple vista parece que las variables siguen una relación exponencial, o cuadrática (parábola), lo que vamos a hacer es ignorar esto primero y asumir que la relación es lineal, para luego cambiarla a exponencial y ver el impacto de esto en el modelo"
   ]
  },
  {
   "cell_type": "code",
   "execution_count": 4,
   "id": "40228d7d",
   "metadata": {},
   "outputs": [
    {
     "data": {
      "image/png": "[encoded data removed]",
      "text/plain": [
       "<Figure size 432x288 with 1 Axes>"
      ]
     },
     "metadata": {
      "needs_background": "light"
     },
     "output_type": "display_data"
    },
    {
     "name": "stdout",
     "output_type": "stream",
     "text": [
      "El R2 es de 0.6059482578894348\n"
     ]
    }
   ],
   "source": [
    "X = data['horsepower'].fillna(data['horsepower'].mean())\n",
    "X = X.values.reshape(-1,1) # La regresión lineal de sklearn asume que la X viene en formato de dataframe\n",
    "Y = data['mpg'].fillna(data['mpg'].mean())\n",
    "\n",
    "lm = LinearRegression().fit(X, Y)\n",
    "plt.plot(X, Y, 'ro')\n",
    "plt.plot(X, lm.predict(X), color='blue')\n",
    "plt.show()\n",
    "print(f'El R2 es de {lm.score(X, Y)}')"
   ]
  },
  {
   "cell_type": "markdown",
   "id": "81f86dd3",
   "metadata": {},
   "source": [
    "### El modelo anterior supone una relación lineal entre el horsepower y el mpg del dataset\n",
    "### Vamos a probar ahora suponiendo una relación cuadrática, es decir, la ecuación del modelo será:\n",
    "* mpg = w***horsepower^2** + b"
   ]
  },
  {
   "cell_type": "code",
   "execution_count": 5,
   "id": "aae1a40e",
   "metadata": {
    "scrolled": false
   },
   "outputs": [
    {
     "data": {
      "image/png": "[encoded data removed]",
      "text/plain": [
       "<Figure size 432x288 with 1 Axes>"
      ]
     },
     "metadata": {
      "needs_background": "light"
     },
     "output_type": "display_data"
    },
    {
     "name": "stdout",
     "output_type": "stream",
     "text": [
      "El R2 es de 0.5073670089832611\n"
     ]
    }
   ],
   "source": [
    "squared_X = X**2\n",
    "\n",
    "cuadratic_model = LinearRegression().fit(squared_X, Y)\n",
    "plt.plot(squared_X, Y, 'ro')\n",
    "plt.plot(squared_X, cuadratic_model.predict(squared_X), color='blue')\n",
    "plt.show()\n",
    "print(f'El R2 es de {cuadratic_model.score(squared_X, Y)}')"
   ]
  },
  {
   "cell_type": "markdown",
   "id": "2d01fb0a",
   "metadata": {},
   "source": [
    "### Se observa que incluso pierde efectividad el modelo, lo que vamos a hacer ahora es convertir la variable predictora en un polinomio de grado 2, esto se hace con la clase PolynimialFeatures como vemos abajo..."
   ]
  },
  {
   "cell_type": "code",
   "execution_count": 15,
   "id": "f7eb42ee",
   "metadata": {},
   "outputs": [
    {
     "name": "stdout",
     "output_type": "stream",
     "text": [
      "[[1.0000e+00 1.3000e+02 1.6900e+04]\n",
      " [1.0000e+00 1.6500e+02 2.7225e+04]\n",
      " [1.0000e+00 1.5000e+02 2.2500e+04]\n",
      " ...\n",
      " [1.0000e+00 8.4000e+01 7.0560e+03]\n",
      " [1.0000e+00 7.9000e+01 6.2410e+03]\n",
      " [1.0000e+00 8.2000e+01 6.7240e+03]]\n"
     ]
    }
   ],
   "source": [
    "from sklearn.preprocessing import PolynomialFeatures\n",
    "\n",
    "poly = PolynomialFeatures(degree=2)\n",
    "x_poly = poly.fit_transform(X)\n",
    "\n",
    "print(x_poly)"
   ]
  },
  {
   "cell_type": "markdown",
   "id": "eff8d2a9",
   "metadata": {},
   "source": [
    "### La función fit_transform de la clase PolynomialFeatures, hace la siguiente transformación para degree = 2:\n",
    "* **[a] -> [a^0, a^1, a^2]**\n",
    "\n",
    "### Y si le pasamos un set multivariable:\n",
    "* **[a, b] -> [1, a, b, a^2, a*b, b^2]**"
   ]
  },
  {
   "cell_type": "code",
   "execution_count": 16,
   "id": "f2376a58",
   "metadata": {},
   "outputs": [
    {
     "data": {
      "image/png": "[encoded data removed]",
      "text/plain": [
       "<Figure size 432x288 with 1 Axes>"
      ]
     },
     "metadata": {
      "needs_background": "light"
     },
     "output_type": "display_data"
    },
    {
     "name": "stdout",
     "output_type": "stream",
     "text": [
      "El R2 es de 0.6875590305127516\n"
     ]
    }
   ],
   "source": [
    "model = LinearRegression().fit(x_poly, Y)\n",
    "plt.plot(x_poly, Y, 'ro')\n",
    "plt.plot(x_poly, model.predict(x_poly), 'o')\n",
    "plt.show()\n",
    "print(f'El R2 es de {model.score(x_poly, Y)}')"
   ]
  },
  {
   "cell_type": "markdown",
   "id": "0f0d64fa",
   "metadata": {},
   "source": [
    "### Ahora si que nuestro modelo adopta la forma de una función cuadrática y conseguimos una mejora notable en el R2"
   ]
  }
 ],
 "metadata": {
  "kernelspec": {
   "display_name": "Python 3 (ipykernel)",
   "language": "python",
   "name": "python3"
  },
  "language_info": {
   "codemirror_mode": {
    "name": "ipython",
    "version": 3
   },
   "file_extension": ".py",
   "mimetype": "text/x-python",
   "name": "python",
   "nbconvert_exporter": "python",
   "pygments_lexer": "ipython3",
   "version": "3.9.7"
  }
 },
 "nbformat": 4,
 "nbformat_minor": 5
}
