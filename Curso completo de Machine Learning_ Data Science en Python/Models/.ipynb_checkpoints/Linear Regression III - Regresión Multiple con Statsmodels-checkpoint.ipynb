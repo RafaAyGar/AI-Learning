{
 "cells": [
  {
   "cell_type": "markdown",
   "id": "fac54e37",
   "metadata": {},
   "source": [
    "# Regresión Lineal Múltiple en Python\n",
    "\n",
    "## El paquete statsmodel para la regresión lineal múltiple"
   ]
  },
  {
   "cell_type": "code",
   "execution_count": 1,
   "id": "15f3059a",
   "metadata": {},
   "outputs": [],
   "source": [
    "from pandas import read_csv, DataFrame\n",
    "from numpy import sqrt, mean"
   ]
  },
  {
   "cell_type": "code",
   "execution_count": 2,
   "id": "f51debd2",
   "metadata": {},
   "outputs": [
    {
     "data": {
      "text/html": [
       "<div>\n",
       "<style scoped>\n",
       "    .dataframe tbody tr th:only-of-type {\n",
       "        vertical-align: middle;\n",
       "    }\n",
       "\n",
       "    .dataframe tbody tr th {\n",
       "        vertical-align: top;\n",
       "    }\n",
       "\n",
       "    .dataframe thead th {\n",
       "        text-align: right;\n",
       "    }\n",
       "</style>\n",
       "<table border=\"1\" class=\"dataframe\">\n",
       "  <thead>\n",
       "    <tr style=\"text-align: right;\">\n",
       "      <th></th>\n",
       "      <th>TV</th>\n",
       "      <th>Radio</th>\n",
       "      <th>Newspaper</th>\n",
       "      <th>Sales</th>\n",
       "    </tr>\n",
       "  </thead>\n",
       "  <tbody>\n",
       "    <tr>\n",
       "      <th>0</th>\n",
       "      <td>230.1</td>\n",
       "      <td>37.8</td>\n",
       "      <td>69.2</td>\n",
       "      <td>22.1</td>\n",
       "    </tr>\n",
       "    <tr>\n",
       "      <th>1</th>\n",
       "      <td>44.5</td>\n",
       "      <td>39.3</td>\n",
       "      <td>45.1</td>\n",
       "      <td>10.4</td>\n",
       "    </tr>\n",
       "    <tr>\n",
       "      <th>2</th>\n",
       "      <td>17.2</td>\n",
       "      <td>45.9</td>\n",
       "      <td>69.3</td>\n",
       "      <td>9.3</td>\n",
       "    </tr>\n",
       "    <tr>\n",
       "      <th>3</th>\n",
       "      <td>151.5</td>\n",
       "      <td>41.3</td>\n",
       "      <td>58.5</td>\n",
       "      <td>18.5</td>\n",
       "    </tr>\n",
       "    <tr>\n",
       "      <th>4</th>\n",
       "      <td>180.8</td>\n",
       "      <td>10.8</td>\n",
       "      <td>58.4</td>\n",
       "      <td>12.9</td>\n",
       "    </tr>\n",
       "  </tbody>\n",
       "</table>\n",
       "</div>"
      ],
      "text/plain": [
       "      TV  Radio  Newspaper  Sales\n",
       "0  230.1   37.8       69.2   22.1\n",
       "1   44.5   39.3       45.1   10.4\n",
       "2   17.2   45.9       69.3    9.3\n",
       "3  151.5   41.3       58.5   18.5\n",
       "4  180.8   10.8       58.4   12.9"
      ]
     },
     "execution_count": 2,
     "metadata": {},
     "output_type": "execute_result"
    }
   ],
   "source": [
    "advertising_data = read_csv('../datasets/ads/Advertising.csv')\n",
    "advertising_data.head()"
   ]
  },
  {
   "cell_type": "markdown",
   "id": "3021fe8e",
   "metadata": {},
   "source": [
    "**A la hora de construir un modelo de regresión lineal múltiple, nos encontramos con la problemática de que tendremos varias variables que incluir en el modelo, y que entre estas, puede que haya algunas que no ayuden a la hora de hacer las predicciones, así como otras que sí lo hagan. La pregunta es:**\n",
    "\n",
    "### ¿Cómo podemos saber las variables que debemos de incluir, y la que debemos de excluir del modelo?"
   ]
  },
  {
   "cell_type": "markdown",
   "id": "d1b0b2a8",
   "metadata": {},
   "source": [
    "**Principalmente, existen dos enfoques:**\n",
    "* Un enfoque **constructivo**, en el cual de primeras construímos el modelo con todas las variables, y una vez construído vamos eliminando según el p-value que tengan, o según como varíe el R2 al quitarlas.\n",
    "* Un enfoque **destructivo**, en el cual de primeras construímos el modelo conuna variable, y una vez construído vamos añadiendo nuevas y viendo los p-values y r2 que se van obteniendo.\n",
    "\n",
    "**Vamos a empezar por crear el modelo del notebook anterior, es decir, predecir las ventas sólo en base al gasto en publicidad en televisión, y luego iremos añadiendo el gasto en publicidad en periódicos y en radio para ver cómo varía el rendimiento del modelo**"
   ]
  },
  {
   "cell_type": "code",
   "execution_count": 3,
   "id": "415a34a8",
   "metadata": {},
   "outputs": [
    {
     "data": {
      "text/plain": [
       "Intercept    7.032594\n",
       "TV           0.047537\n",
       "dtype: float64"
      ]
     },
     "execution_count": 3,
     "metadata": {},
     "output_type": "execute_result"
    }
   ],
   "source": [
    "import statsmodels.formula.api as smf\n",
    "model_TV = smf.ols(formula=\"Sales~TV\", data=advertising_data).fit()\n",
    "model_TV.params"
   ]
  },
  {
   "cell_type": "markdown",
   "id": "6f6b32d6",
   "metadata": {},
   "source": [
    "**Creemos ahora un modelo que también tenga en cuenta el gasto para publicidad en periódicos**"
   ]
  },
  {
   "cell_type": "code",
   "execution_count": 4,
   "id": "603dab99",
   "metadata": {},
   "outputs": [
    {
     "data": {
      "text/plain": [
       "Intercept    5.774948\n",
       "TV           0.046901\n",
       "Newspaper    0.044219\n",
       "dtype: float64"
      ]
     },
     "execution_count": 4,
     "metadata": {},
     "output_type": "execute_result"
    }
   ],
   "source": [
    "model_TV_Newspapers = smf.ols(formula=\"Sales~TV+Newspaper\", data=advertising_data).fit()\n",
    "model_TV_Newspapers.params"
   ]
  },
  {
   "cell_type": "code",
   "execution_count": 5,
   "id": "f2f2b33a",
   "metadata": {},
   "outputs": [
    {
     "data": {
      "text/plain": [
       "Intercept    3.145860e-22\n",
       "TV           5.507584e-44\n",
       "Newspaper    2.217084e-05\n",
       "dtype: float64"
      ]
     },
     "execution_count": 5,
     "metadata": {},
     "output_type": "execute_result"
    }
   ],
   "source": [
    "model_TV_Newspapers.pvalues"
   ]
  },
  {
   "cell_type": "code",
   "execution_count": 6,
   "id": "3646897d",
   "metadata": {},
   "outputs": [
    {
     "name": "stdout",
     "output_type": "stream",
     "text": [
      "R2 Adjusted sólo con TV: 0.6099148238341623\n",
      "R2 Adjusted con TV y Newspaper: 0.6422399150864777\n"
     ]
    }
   ],
   "source": [
    "print(f'R2 Adjusted sólo con TV: {model_TV.rsquared_adj}')\n",
    "print(f'R2 Adjusted con TV y Newspaper: {model_TV_Newspapers.rsquared_adj}')"
   ]
  },
  {
   "cell_type": "markdown",
   "id": "ea0fb0cf",
   "metadata": {},
   "source": [
    "Tanto el **p-value** de la variable Newspaper, que es bastante bajo, como el aumento del **R2 Ajustado** del modelo, del 60%, al 64%, son buenos indicadores de que debemos de incorporar la variable Newspapers al modelo.\n",
    "\n",
    "No obstante, **vamos a calcular el RSE**, una reducción en este con respecto del modelo inicial, sería otro buen indicador de que la variable Newspaper aumenta el rendimiento del modelo"
   ]
  },
  {
   "cell_type": "code",
   "execution_count": 7,
   "id": "7c178c07",
   "metadata": {},
   "outputs": [
    {
     "data": {
      "text/plain": [
       "3.120719860252886"
      ]
     },
     "execution_count": 7,
     "metadata": {},
     "output_type": "execute_result"
    }
   ],
   "source": [
    "data = advertising_data.copy()\n",
    "data['Predicted'] = model_TV_Newspapers.predict(data[['TV', 'Newspaper']])\n",
    "data['RSE'] = (data['Sales']-data['Predicted'])**2\n",
    "RSE = sqrt( (sum(data['RSE']) / (len(data) - 2 - 1)))\n",
    "RSE"
   ]
  },
  {
   "cell_type": "markdown",
   "id": "5a52900d",
   "metadata": {},
   "source": [
    "**Recordemos el RSE del antiguo modelo**"
   ]
  },
  {
   "cell_type": "code",
   "execution_count": 8,
   "id": "6ab44d8d",
   "metadata": {},
   "outputs": [
    {
     "data": {
      "text/plain": [
       "3.2669166008346298"
      ]
     },
     "execution_count": 8,
     "metadata": {},
     "output_type": "execute_result"
    }
   ],
   "source": [
    "data['Predicted With TV'] = model_TV.predict(data[['TV']])\n",
    "data['RSE  With TV'] = (data['Sales']-data['Predicted With TV'])**2\n",
    "RSE = sqrt( (sum(data['RSE  With TV']) / (len(data) - 2 - 1)))\n",
    "RSE"
   ]
  },
  {
   "cell_type": "markdown",
   "id": "c5e41d6e",
   "metadata": {},
   "source": [
    "Vemos que **también hay una reducción en el RSE**"
   ]
  },
  {
   "cell_type": "markdown",
   "id": "44eaf9b7",
   "metadata": {},
   "source": [
    "**Por último, veremos un resumen de los parámetros con la función summary**"
   ]
  },
  {
   "cell_type": "code",
   "execution_count": 9,
   "id": "4c878961",
   "metadata": {},
   "outputs": [
    {
     "data": {
      "text/html": [
       "<table class=\"simpletable\">\n",
       "<caption>OLS Regression Results</caption>\n",
       "<tr>\n",
       "  <th>Dep. Variable:</th>          <td>Sales</td>      <th>  R-squared:         </th> <td>   0.646</td>\n",
       "</tr>\n",
       "<tr>\n",
       "  <th>Model:</th>                   <td>OLS</td>       <th>  Adj. R-squared:    </th> <td>   0.642</td>\n",
       "</tr>\n",
       "<tr>\n",
       "  <th>Method:</th>             <td>Least Squares</td>  <th>  F-statistic:       </th> <td>   179.6</td>\n",
       "</tr>\n",
       "<tr>\n",
       "  <th>Date:</th>             <td>Mon, 08 Nov 2021</td> <th>  Prob (F-statistic):</th> <td>3.95e-45</td>\n",
       "</tr>\n",
       "<tr>\n",
       "  <th>Time:</th>                 <td>21:31:25</td>     <th>  Log-Likelihood:    </th> <td> -509.89</td>\n",
       "</tr>\n",
       "<tr>\n",
       "  <th>No. Observations:</th>      <td>   200</td>      <th>  AIC:               </th> <td>   1026.</td>\n",
       "</tr>\n",
       "<tr>\n",
       "  <th>Df Residuals:</th>          <td>   197</td>      <th>  BIC:               </th> <td>   1036.</td>\n",
       "</tr>\n",
       "<tr>\n",
       "  <th>Df Model:</th>              <td>     2</td>      <th>                     </th>     <td> </td>   \n",
       "</tr>\n",
       "<tr>\n",
       "  <th>Covariance Type:</th>      <td>nonrobust</td>    <th>                     </th>     <td> </td>   \n",
       "</tr>\n",
       "</table>\n",
       "<table class=\"simpletable\">\n",
       "<tr>\n",
       "      <td></td>         <th>coef</th>     <th>std err</th>      <th>t</th>      <th>P>|t|</th>  <th>[0.025</th>    <th>0.975]</th>  \n",
       "</tr>\n",
       "<tr>\n",
       "  <th>Intercept</th> <td>    5.7749</td> <td>    0.525</td> <td>   10.993</td> <td> 0.000</td> <td>    4.739</td> <td>    6.811</td>\n",
       "</tr>\n",
       "<tr>\n",
       "  <th>TV</th>        <td>    0.0469</td> <td>    0.003</td> <td>   18.173</td> <td> 0.000</td> <td>    0.042</td> <td>    0.052</td>\n",
       "</tr>\n",
       "<tr>\n",
       "  <th>Newspaper</th> <td>    0.0442</td> <td>    0.010</td> <td>    4.346</td> <td> 0.000</td> <td>    0.024</td> <td>    0.064</td>\n",
       "</tr>\n",
       "</table>\n",
       "<table class=\"simpletable\">\n",
       "<tr>\n",
       "  <th>Omnibus:</th>       <td> 0.658</td> <th>  Durbin-Watson:     </th> <td>   1.969</td>\n",
       "</tr>\n",
       "<tr>\n",
       "  <th>Prob(Omnibus):</th> <td> 0.720</td> <th>  Jarque-Bera (JB):  </th> <td>   0.415</td>\n",
       "</tr>\n",
       "<tr>\n",
       "  <th>Skew:</th>          <td>-0.093</td> <th>  Prob(JB):          </th> <td>   0.813</td>\n",
       "</tr>\n",
       "<tr>\n",
       "  <th>Kurtosis:</th>      <td> 3.122</td> <th>  Cond. No.          </th> <td>    410.</td>\n",
       "</tr>\n",
       "</table><br/><br/>Notes:<br/>[1] Standard Errors assume that the covariance matrix of the errors is correctly specified."
      ],
      "text/plain": [
       "<class 'statsmodels.iolib.summary.Summary'>\n",
       "\"\"\"\n",
       "                            OLS Regression Results                            \n",
       "==============================================================================\n",
       "Dep. Variable:                  Sales   R-squared:                       0.646\n",
       "Model:                            OLS   Adj. R-squared:                  0.642\n",
       "Method:                 Least Squares   F-statistic:                     179.6\n",
       "Date:                Mon, 08 Nov 2021   Prob (F-statistic):           3.95e-45\n",
       "Time:                        21:31:25   Log-Likelihood:                -509.89\n",
       "No. Observations:                 200   AIC:                             1026.\n",
       "Df Residuals:                     197   BIC:                             1036.\n",
       "Df Model:                           2                                         \n",
       "Covariance Type:            nonrobust                                         \n",
       "==============================================================================\n",
       "                 coef    std err          t      P>|t|      [0.025      0.975]\n",
       "------------------------------------------------------------------------------\n",
       "Intercept      5.7749      0.525     10.993      0.000       4.739       6.811\n",
       "TV             0.0469      0.003     18.173      0.000       0.042       0.052\n",
       "Newspaper      0.0442      0.010      4.346      0.000       0.024       0.064\n",
       "==============================================================================\n",
       "Omnibus:                        0.658   Durbin-Watson:                   1.969\n",
       "Prob(Omnibus):                  0.720   Jarque-Bera (JB):                0.415\n",
       "Skew:                          -0.093   Prob(JB):                        0.813\n",
       "Kurtosis:                       3.122   Cond. No.                         410.\n",
       "==============================================================================\n",
       "\n",
       "Notes:\n",
       "[1] Standard Errors assume that the covariance matrix of the errors is correctly specified.\n",
       "\"\"\""
      ]
     },
     "execution_count": 9,
     "metadata": {},
     "output_type": "execute_result"
    }
   ],
   "source": [
    "model_TV_Newspapers.summary()"
   ]
  },
  {
   "cell_type": "markdown",
   "id": "b4eebe5c",
   "metadata": {},
   "source": [
    "## Vamos a repetir el mismo proceso pero añadiendo la variable del gasto de publicidad en radio"
   ]
  },
  {
   "cell_type": "code",
   "execution_count": 10,
   "id": "53b7c373",
   "metadata": {},
   "outputs": [
    {
     "data": {
      "text/html": [
       "<table class=\"simpletable\">\n",
       "<caption>OLS Regression Results</caption>\n",
       "<tr>\n",
       "  <th>Dep. Variable:</th>          <td>Sales</td>      <th>  R-squared:         </th> <td>   0.897</td>\n",
       "</tr>\n",
       "<tr>\n",
       "  <th>Model:</th>                   <td>OLS</td>       <th>  Adj. R-squared:    </th> <td>   0.896</td>\n",
       "</tr>\n",
       "<tr>\n",
       "  <th>Method:</th>             <td>Least Squares</td>  <th>  F-statistic:       </th> <td>   570.3</td>\n",
       "</tr>\n",
       "<tr>\n",
       "  <th>Date:</th>             <td>Mon, 08 Nov 2021</td> <th>  Prob (F-statistic):</th> <td>1.58e-96</td>\n",
       "</tr>\n",
       "<tr>\n",
       "  <th>Time:</th>                 <td>21:31:25</td>     <th>  Log-Likelihood:    </th> <td> -386.18</td>\n",
       "</tr>\n",
       "<tr>\n",
       "  <th>No. Observations:</th>      <td>   200</td>      <th>  AIC:               </th> <td>   780.4</td>\n",
       "</tr>\n",
       "<tr>\n",
       "  <th>Df Residuals:</th>          <td>   196</td>      <th>  BIC:               </th> <td>   793.6</td>\n",
       "</tr>\n",
       "<tr>\n",
       "  <th>Df Model:</th>              <td>     3</td>      <th>                     </th>     <td> </td>   \n",
       "</tr>\n",
       "<tr>\n",
       "  <th>Covariance Type:</th>      <td>nonrobust</td>    <th>                     </th>     <td> </td>   \n",
       "</tr>\n",
       "</table>\n",
       "<table class=\"simpletable\">\n",
       "<tr>\n",
       "      <td></td>         <th>coef</th>     <th>std err</th>      <th>t</th>      <th>P>|t|</th>  <th>[0.025</th>    <th>0.975]</th>  \n",
       "</tr>\n",
       "<tr>\n",
       "  <th>Intercept</th> <td>    2.9389</td> <td>    0.312</td> <td>    9.422</td> <td> 0.000</td> <td>    2.324</td> <td>    3.554</td>\n",
       "</tr>\n",
       "<tr>\n",
       "  <th>TV</th>        <td>    0.0458</td> <td>    0.001</td> <td>   32.809</td> <td> 0.000</td> <td>    0.043</td> <td>    0.049</td>\n",
       "</tr>\n",
       "<tr>\n",
       "  <th>Newspaper</th> <td>   -0.0010</td> <td>    0.006</td> <td>   -0.177</td> <td> 0.860</td> <td>   -0.013</td> <td>    0.011</td>\n",
       "</tr>\n",
       "<tr>\n",
       "  <th>Radio</th>     <td>    0.1885</td> <td>    0.009</td> <td>   21.893</td> <td> 0.000</td> <td>    0.172</td> <td>    0.206</td>\n",
       "</tr>\n",
       "</table>\n",
       "<table class=\"simpletable\">\n",
       "<tr>\n",
       "  <th>Omnibus:</th>       <td>60.414</td> <th>  Durbin-Watson:     </th> <td>   2.084</td>\n",
       "</tr>\n",
       "<tr>\n",
       "  <th>Prob(Omnibus):</th> <td> 0.000</td> <th>  Jarque-Bera (JB):  </th> <td> 151.241</td>\n",
       "</tr>\n",
       "<tr>\n",
       "  <th>Skew:</th>          <td>-1.327</td> <th>  Prob(JB):          </th> <td>1.44e-33</td>\n",
       "</tr>\n",
       "<tr>\n",
       "  <th>Kurtosis:</th>      <td> 6.332</td> <th>  Cond. No.          </th> <td>    454.</td>\n",
       "</tr>\n",
       "</table><br/><br/>Notes:<br/>[1] Standard Errors assume that the covariance matrix of the errors is correctly specified."
      ],
      "text/plain": [
       "<class 'statsmodels.iolib.summary.Summary'>\n",
       "\"\"\"\n",
       "                            OLS Regression Results                            \n",
       "==============================================================================\n",
       "Dep. Variable:                  Sales   R-squared:                       0.897\n",
       "Model:                            OLS   Adj. R-squared:                  0.896\n",
       "Method:                 Least Squares   F-statistic:                     570.3\n",
       "Date:                Mon, 08 Nov 2021   Prob (F-statistic):           1.58e-96\n",
       "Time:                        21:31:25   Log-Likelihood:                -386.18\n",
       "No. Observations:                 200   AIC:                             780.4\n",
       "Df Residuals:                     196   BIC:                             793.6\n",
       "Df Model:                           3                                         \n",
       "Covariance Type:            nonrobust                                         \n",
       "==============================================================================\n",
       "                 coef    std err          t      P>|t|      [0.025      0.975]\n",
       "------------------------------------------------------------------------------\n",
       "Intercept      2.9389      0.312      9.422      0.000       2.324       3.554\n",
       "TV             0.0458      0.001     32.809      0.000       0.043       0.049\n",
       "Newspaper     -0.0010      0.006     -0.177      0.860      -0.013       0.011\n",
       "Radio          0.1885      0.009     21.893      0.000       0.172       0.206\n",
       "==============================================================================\n",
       "Omnibus:                       60.414   Durbin-Watson:                   2.084\n",
       "Prob(Omnibus):                  0.000   Jarque-Bera (JB):              151.241\n",
       "Skew:                          -1.327   Prob(JB):                     1.44e-33\n",
       "Kurtosis:                       6.332   Cond. No.                         454.\n",
       "==============================================================================\n",
       "\n",
       "Notes:\n",
       "[1] Standard Errors assume that the covariance matrix of the errors is correctly specified.\n",
       "\"\"\""
      ]
     },
     "execution_count": 10,
     "metadata": {},
     "output_type": "execute_result"
    }
   ],
   "source": [
    "model_TV_Newspaper_Radio = smf.ols(formula=\"Sales~TV+Newspaper+Radio\", data=data).fit()\n",
    "# Invocamos directamente la función summary\n",
    "model_TV_Newspaper_Radio.summary()"
   ]
  },
  {
   "cell_type": "markdown",
   "id": "3561b04e",
   "metadata": {},
   "source": [
    "#### Podemos apreciar una mejora bastante considerable con respecto del modelo sin la nueva variable añadida, podemos verlo en el aumento R2 Ajustado y la gran disminución del p-value, principalmente.\n",
    "\n",
    "#### Sin embargo, si observamos los parámetros asociados al gasto de publicidad en periódico, nos están indicando que no es una buena variable a mantener en el modelo final, por lo que la eliminaremos. Esto se puede deducir, por ejemplo, de que el coeficiente es prácticamente 0, por lo que no tiene apenas peso en la predicción, a parte de esto, tiene un p-value cercano a 1, cosa que es una mala señal.\n",
    "\n",
    "#### Pero... ¿Qué nos esta diciendo el modelo? ¿Como es posible que nos diga que el gasto de publicidad en periódico no afecta a las ventas, y que incluso puede llegar a reducirlas (si nos fijamos su coeficiente es negativo)?\n",
    "\n",
    "## Esto nos lleva al siguiente punto..."
   ]
  },
  {
   "cell_type": "markdown",
   "id": "7819dcc0",
   "metadata": {},
   "source": [
    "# El problema de la Multicolinealidad"
   ]
  },
  {
   "cell_type": "markdown",
   "id": "b2e08d71",
   "metadata": {},
   "source": [
    "**Veamos la matriz de correlaciones de nuestros datos para ver si existen correlaciones entre las variables predictoras**"
   ]
  },
  {
   "cell_type": "code",
   "execution_count": 11,
   "id": "45528040",
   "metadata": {},
   "outputs": [
    {
     "data": {
      "text/html": [
       "<div>\n",
       "<style scoped>\n",
       "    .dataframe tbody tr th:only-of-type {\n",
       "        vertical-align: middle;\n",
       "    }\n",
       "\n",
       "    .dataframe tbody tr th {\n",
       "        vertical-align: top;\n",
       "    }\n",
       "\n",
       "    .dataframe thead th {\n",
       "        text-align: right;\n",
       "    }\n",
       "</style>\n",
       "<table border=\"1\" class=\"dataframe\">\n",
       "  <thead>\n",
       "    <tr style=\"text-align: right;\">\n",
       "      <th></th>\n",
       "      <th>TV</th>\n",
       "      <th>Radio</th>\n",
       "      <th>Newspaper</th>\n",
       "      <th>Sales</th>\n",
       "    </tr>\n",
       "  </thead>\n",
       "  <tbody>\n",
       "    <tr>\n",
       "      <th>TV</th>\n",
       "      <td>1.000000</td>\n",
       "      <td>0.054809</td>\n",
       "      <td>0.056648</td>\n",
       "      <td>0.782224</td>\n",
       "    </tr>\n",
       "    <tr>\n",
       "      <th>Radio</th>\n",
       "      <td>0.054809</td>\n",
       "      <td>1.000000</td>\n",
       "      <td>0.354104</td>\n",
       "      <td>0.576223</td>\n",
       "    </tr>\n",
       "    <tr>\n",
       "      <th>Newspaper</th>\n",
       "      <td>0.056648</td>\n",
       "      <td>0.354104</td>\n",
       "      <td>1.000000</td>\n",
       "      <td>0.228299</td>\n",
       "    </tr>\n",
       "    <tr>\n",
       "      <th>Sales</th>\n",
       "      <td>0.782224</td>\n",
       "      <td>0.576223</td>\n",
       "      <td>0.228299</td>\n",
       "      <td>1.000000</td>\n",
       "    </tr>\n",
       "  </tbody>\n",
       "</table>\n",
       "</div>"
      ],
      "text/plain": [
       "                 TV     Radio  Newspaper     Sales\n",
       "TV         1.000000  0.054809   0.056648  0.782224\n",
       "Radio      0.054809  1.000000   0.354104  0.576223\n",
       "Newspaper  0.056648  0.354104   1.000000  0.228299\n",
       "Sales      0.782224  0.576223   0.228299  1.000000"
      ]
     },
     "execution_count": 11,
     "metadata": {},
     "output_type": "execute_result"
    },
    {
     "data": {
      "image/png": "[encoded data removed]",
      "text/plain": [
       "<Figure size 288x288 with 1 Axes>"
      ]
     },
     "metadata": {
      "needs_background": "light"
     },
     "output_type": "display_data"
    }
   ],
   "source": [
    "import matplotlib.pyplot as plt\n",
    "\n",
    "plt.matshow(advertising_data.corr())\n",
    "advertising_data.corr()"
   ]
  },
  {
   "cell_type": "markdown",
   "id": "07c39504",
   "metadata": {},
   "source": [
    "**Observamos que hay más de un 35% de correlación entre la variable predictora del periódico y la radio**\n",
    "\n",
    "**Esto es un problema ya que produce resultados más pobres en el modelo, lo que se suele hacer, es eliminar alguna de las variables que estan correlacionadas, como es lógico, se borrará la que obtenga peor rendimiento**"
   ]
  },
  {
   "cell_type": "markdown",
   "id": "0de67978",
   "metadata": {},
   "source": [
    "**Podemos ver si las variables están correlacionadas de forma más sólida a través del suguiente procedimiento...**"
   ]
  },
  {
   "cell_type": "markdown",
   "id": "f22a982f",
   "metadata": {},
   "source": [
    "**Crearemos 3 modelos:**\n",
    "* Newspaper ~ TV + Radio\n",
    "* TV ~ Newspaper + Radio\n",
    "* Radio ~ TV + Newspaper\n",
    "\n",
    "Y para cada uno calcularemos el R2, o más concretamente, computaremos un factor que es útil en estos casos, que es el:\n",
    "\n",
    "**Factor de Inflación de la Varianza (VIF)**:\n",
    "**VIF = 1 / (1 - rsquared)**\n",
    "* Si VIF <= 1 -> Las variables no están correlacionadas\n",
    "* Si VIF <= 5 -> Las variables tienen una correlación pero no demasiado elevada, por lo que podrían quedarse en el modelo\n",
    "* Si VIF >  5 -> Las variables están altamente relacionadas y hay que borrar alguna del modelo"
   ]
  },
  {
   "cell_type": "code",
   "execution_count": 12,
   "id": "a1d22a6a",
   "metadata": {},
   "outputs": [
    {
     "name": "stdout",
     "output_type": "stream",
     "text": [
      "VIF para Newspaper ~ TV + Radio -> 1.1451873787239288\n"
     ]
    }
   ],
   "source": [
    "# Newspaper ~ TV + Radio\n",
    "model1 = smf.ols(formula=\"Newspaper~TV+Radio\", data=advertising_data).fit()\n",
    "rsquared1 = model1.rsquared\n",
    "vif1 = 1 / (1 - rsquared1)\n",
    "print(f'VIF para Newspaper ~ TV + Radio -> {vif1}')"
   ]
  },
  {
   "cell_type": "code",
   "execution_count": 13,
   "id": "1a1b2aeb",
   "metadata": {},
   "outputs": [
    {
     "name": "stdout",
     "output_type": "stream",
     "text": [
      "VIF para TV ~ Newspaper + Radio -> 1.00461078493965\n"
     ]
    }
   ],
   "source": [
    "# TV ~ Newspaper + Radio\n",
    "model2 = smf.ols(formula=\"TV~Newspaper+Radio\", data=advertising_data).fit()\n",
    "rsquared2 = model2.rsquared\n",
    "vif2 = 1 / (1 - rsquared2)\n",
    "print(f'VIF para TV ~ Newspaper + Radio -> {vif2}')"
   ]
  },
  {
   "cell_type": "code",
   "execution_count": 16,
   "id": "5a6ff6ea",
   "metadata": {},
   "outputs": [
    {
     "name": "stdout",
     "output_type": "stream",
     "text": [
      "VIF para Radio ~ Newspaper + TV -> 1.1449519171055351\n"
     ]
    }
   ],
   "source": [
    "# Radio ~ TV + Newspaper\n",
    "model3 = smf.ols(formula=\"Radio~Newspaper+TV\", data=advertising_data).fit()\n",
    "rsquared3 = model3.rsquared\n",
    "vif3 = 1 / (1 - rsquared3)\n",
    "print(f'VIF para Radio ~ Newspaper + TV -> {vif3}')"
   ]
  },
  {
   "cell_type": "markdown",
   "id": "209efd58",
   "metadata": {},
   "source": [
    "## Podemos ver que ningún VIF por separado en muy alto, pero sin embargo, observamos que los valores del 1º y del 3º son prácticamente los mismos, esto también es un indicador de que las variables que comparten están ALTAMENTE CORRELACIONADAS, y tendremos que eliminar una, en este caso será la de Newspaper, ya que es la que peor rinde de las dos"
   ]
  }
 ],
 "metadata": {
  "kernelspec": {
   "display_name": "Python 3 (ipykernel)",
   "language": "python",
   "name": "python3"
  },
  "language_info": {
   "codemirror_mode": {
    "name": "ipython",
    "version": 3
   },
   "file_extension": ".py",
   "mimetype": "text/x-python",
   "name": "python",
   "nbconvert_exporter": "python",
   "pygments_lexer": "ipython3",
   "version": "3.9.7"
  }
 },
 "nbformat": 4,
 "nbformat_minor": 5
}
