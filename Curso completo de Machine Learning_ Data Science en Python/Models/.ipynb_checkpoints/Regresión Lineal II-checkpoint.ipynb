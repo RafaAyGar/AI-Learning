{
 "cells": [
  {
   "cell_type": "markdown",
   "id": "fac54e37",
   "metadata": {},
   "source": [
    "# Regresión Lineal Simple en Python\n",
    "\n",
    "## El paquete statsmodel para la regresión lineal\n",
    "\n",
    "Primero haremos un modelo de regresión lineal simple y luego uno de regresión lineal múltiple"
   ]
  },
  {
   "cell_type": "code",
   "execution_count": 20,
   "id": "15f3059a",
   "metadata": {},
   "outputs": [],
   "source": [
    "from pandas import read_csv, DataFrame\n",
    "from numpy import sqrt, mean"
   ]
  },
  {
   "cell_type": "code",
   "execution_count": 3,
   "id": "f51debd2",
   "metadata": {},
   "outputs": [
    {
     "data": {
      "text/html": [
       "<div>\n",
       "<style scoped>\n",
       "    .dataframe tbody tr th:only-of-type {\n",
       "        vertical-align: middle;\n",
       "    }\n",
       "\n",
       "    .dataframe tbody tr th {\n",
       "        vertical-align: top;\n",
       "    }\n",
       "\n",
       "    .dataframe thead th {\n",
       "        text-align: right;\n",
       "    }\n",
       "</style>\n",
       "<table border=\"1\" class=\"dataframe\">\n",
       "  <thead>\n",
       "    <tr style=\"text-align: right;\">\n",
       "      <th></th>\n",
       "      <th>TV</th>\n",
       "      <th>Radio</th>\n",
       "      <th>Newspaper</th>\n",
       "      <th>Sales</th>\n",
       "    </tr>\n",
       "  </thead>\n",
       "  <tbody>\n",
       "    <tr>\n",
       "      <th>0</th>\n",
       "      <td>230.1</td>\n",
       "      <td>37.8</td>\n",
       "      <td>69.2</td>\n",
       "      <td>22.1</td>\n",
       "    </tr>\n",
       "    <tr>\n",
       "      <th>1</th>\n",
       "      <td>44.5</td>\n",
       "      <td>39.3</td>\n",
       "      <td>45.1</td>\n",
       "      <td>10.4</td>\n",
       "    </tr>\n",
       "    <tr>\n",
       "      <th>2</th>\n",
       "      <td>17.2</td>\n",
       "      <td>45.9</td>\n",
       "      <td>69.3</td>\n",
       "      <td>9.3</td>\n",
       "    </tr>\n",
       "    <tr>\n",
       "      <th>3</th>\n",
       "      <td>151.5</td>\n",
       "      <td>41.3</td>\n",
       "      <td>58.5</td>\n",
       "      <td>18.5</td>\n",
       "    </tr>\n",
       "    <tr>\n",
       "      <th>4</th>\n",
       "      <td>180.8</td>\n",
       "      <td>10.8</td>\n",
       "      <td>58.4</td>\n",
       "      <td>12.9</td>\n",
       "    </tr>\n",
       "  </tbody>\n",
       "</table>\n",
       "</div>"
      ],
      "text/plain": [
       "      TV  Radio  Newspaper  Sales\n",
       "0  230.1   37.8       69.2   22.1\n",
       "1   44.5   39.3       45.1   10.4\n",
       "2   17.2   45.9       69.3    9.3\n",
       "3  151.5   41.3       58.5   18.5\n",
       "4  180.8   10.8       58.4   12.9"
      ]
     },
     "execution_count": 3,
     "metadata": {},
     "output_type": "execute_result"
    }
   ],
   "source": [
    "data = read_csv('../datasets/ads/Advertising.csv')\n",
    "data.head()"
   ]
  },
  {
   "cell_type": "markdown",
   "id": "a1eae32c",
   "metadata": {},
   "source": [
    "**Vamos a comprobar si existe una relación lineal entre el gasto en publicidad en televisión y las ventas**"
   ]
  },
  {
   "cell_type": "code",
   "execution_count": 6,
   "id": "48490ad7",
   "metadata": {},
   "outputs": [],
   "source": [
    "import statsmodels.formula.api as smf"
   ]
  },
  {
   "cell_type": "code",
   "execution_count": 8,
   "id": "f0f9d774",
   "metadata": {},
   "outputs": [
    {
     "data": {
      "text/plain": [
       "Intercept    7.032594\n",
       "TV           0.047537\n",
       "dtype: float64"
      ]
     },
     "execution_count": 8,
     "metadata": {},
     "output_type": "execute_result"
    }
   ],
   "source": [
    "linear_model = smf.ols(formula=\"Sales~TV\", data=data).fit()\n",
    "linear_model.params"
   ]
  },
  {
   "cell_type": "markdown",
   "id": "268346c4",
   "metadata": {},
   "source": [
    "El modelo lineal predictivo sería \n",
    "**Sales = 0.047537*TV + 7.032594**\n",
    "\n",
    "Esto nos dice que aproximadamente un aumento de 100 dólares invertidos en publicidad, produce un aumento aproximado de 100*0.0475 = 4.7 en las ventas\n",
    "\n",
    "**Ahora vamos a ver los p-values de las variables de nuestro modelo, como vemos, mientras más pequeños sean, mayor será la significancia estadística de la variable en cuestión**"
   ]
  },
  {
   "cell_type": "code",
   "execution_count": 9,
   "id": "9d191d93",
   "metadata": {},
   "outputs": [
    {
     "data": {
      "text/plain": [
       "Intercept    1.406300e-35\n",
       "TV           1.467390e-42\n",
       "dtype: float64"
      ]
     },
     "execution_count": 9,
     "metadata": {},
     "output_type": "execute_result"
    }
   ],
   "source": [
    "linear_model.pvalues"
   ]
  },
  {
   "cell_type": "markdown",
   "id": "a0b9baee",
   "metadata": {},
   "source": [
    "**Podemos observar que son p-values pequeñísimos, lo que nos indica que las variables escogidas tienen significancia real a la hora de predecir las ventas**\n",
    "\n",
    "**También podemos solicitar el r-cuadrado de nuestro modelo creado con statsmodels**"
   ]
  },
  {
   "cell_type": "code",
   "execution_count": 10,
   "id": "b5ed6ab8",
   "metadata": {},
   "outputs": [
    {
     "data": {
      "text/plain": [
       "0.611875050850071"
      ]
     },
     "execution_count": 10,
     "metadata": {},
     "output_type": "execute_result"
    }
   ],
   "source": [
    "linear_model.rsquared"
   ]
  },
  {
   "cell_type": "markdown",
   "id": "1959026a",
   "metadata": {},
   "source": [
    "Nos dice que el modelo consigue reducir en un 60% el error que se comete al utilizar la media como predictor\n",
    "\n",
    "## Para obtener todos los resultados de nuestro modelo podemos usar la función summary"
   ]
  },
  {
   "cell_type": "code",
   "execution_count": 12,
   "id": "dd220301",
   "metadata": {},
   "outputs": [
    {
     "data": {
      "text/html": [
       "<table class=\"simpletable\">\n",
       "<caption>OLS Regression Results</caption>\n",
       "<tr>\n",
       "  <th>Dep. Variable:</th>          <td>Sales</td>      <th>  R-squared:         </th> <td>   0.612</td>\n",
       "</tr>\n",
       "<tr>\n",
       "  <th>Model:</th>                   <td>OLS</td>       <th>  Adj. R-squared:    </th> <td>   0.610</td>\n",
       "</tr>\n",
       "<tr>\n",
       "  <th>Method:</th>             <td>Least Squares</td>  <th>  F-statistic:       </th> <td>   312.1</td>\n",
       "</tr>\n",
       "<tr>\n",
       "  <th>Date:</th>             <td>Fri, 05 Nov 2021</td> <th>  Prob (F-statistic):</th> <td>1.47e-42</td>\n",
       "</tr>\n",
       "<tr>\n",
       "  <th>Time:</th>                 <td>16:33:22</td>     <th>  Log-Likelihood:    </th> <td> -519.05</td>\n",
       "</tr>\n",
       "<tr>\n",
       "  <th>No. Observations:</th>      <td>   200</td>      <th>  AIC:               </th> <td>   1042.</td>\n",
       "</tr>\n",
       "<tr>\n",
       "  <th>Df Residuals:</th>          <td>   198</td>      <th>  BIC:               </th> <td>   1049.</td>\n",
       "</tr>\n",
       "<tr>\n",
       "  <th>Df Model:</th>              <td>     1</td>      <th>                     </th>     <td> </td>   \n",
       "</tr>\n",
       "<tr>\n",
       "  <th>Covariance Type:</th>      <td>nonrobust</td>    <th>                     </th>     <td> </td>   \n",
       "</tr>\n",
       "</table>\n",
       "<table class=\"simpletable\">\n",
       "<tr>\n",
       "      <td></td>         <th>coef</th>     <th>std err</th>      <th>t</th>      <th>P>|t|</th>  <th>[0.025</th>    <th>0.975]</th>  \n",
       "</tr>\n",
       "<tr>\n",
       "  <th>Intercept</th> <td>    7.0326</td> <td>    0.458</td> <td>   15.360</td> <td> 0.000</td> <td>    6.130</td> <td>    7.935</td>\n",
       "</tr>\n",
       "<tr>\n",
       "  <th>TV</th>        <td>    0.0475</td> <td>    0.003</td> <td>   17.668</td> <td> 0.000</td> <td>    0.042</td> <td>    0.053</td>\n",
       "</tr>\n",
       "</table>\n",
       "<table class=\"simpletable\">\n",
       "<tr>\n",
       "  <th>Omnibus:</th>       <td> 0.531</td> <th>  Durbin-Watson:     </th> <td>   1.935</td>\n",
       "</tr>\n",
       "<tr>\n",
       "  <th>Prob(Omnibus):</th> <td> 0.767</td> <th>  Jarque-Bera (JB):  </th> <td>   0.669</td>\n",
       "</tr>\n",
       "<tr>\n",
       "  <th>Skew:</th>          <td>-0.089</td> <th>  Prob(JB):          </th> <td>   0.716</td>\n",
       "</tr>\n",
       "<tr>\n",
       "  <th>Kurtosis:</th>      <td> 2.779</td> <th>  Cond. No.          </th> <td>    338.</td>\n",
       "</tr>\n",
       "</table><br/><br/>Notes:<br/>[1] Standard Errors assume that the covariance matrix of the errors is correctly specified."
      ],
      "text/plain": [
       "<class 'statsmodels.iolib.summary.Summary'>\n",
       "\"\"\"\n",
       "                            OLS Regression Results                            \n",
       "==============================================================================\n",
       "Dep. Variable:                  Sales   R-squared:                       0.612\n",
       "Model:                            OLS   Adj. R-squared:                  0.610\n",
       "Method:                 Least Squares   F-statistic:                     312.1\n",
       "Date:                Fri, 05 Nov 2021   Prob (F-statistic):           1.47e-42\n",
       "Time:                        16:33:22   Log-Likelihood:                -519.05\n",
       "No. Observations:                 200   AIC:                             1042.\n",
       "Df Residuals:                     198   BIC:                             1049.\n",
       "Df Model:                           1                                         \n",
       "Covariance Type:            nonrobust                                         \n",
       "==============================================================================\n",
       "                 coef    std err          t      P>|t|      [0.025      0.975]\n",
       "------------------------------------------------------------------------------\n",
       "Intercept      7.0326      0.458     15.360      0.000       6.130       7.935\n",
       "TV             0.0475      0.003     17.668      0.000       0.042       0.053\n",
       "==============================================================================\n",
       "Omnibus:                        0.531   Durbin-Watson:                   1.935\n",
       "Prob(Omnibus):                  0.767   Jarque-Bera (JB):                0.669\n",
       "Skew:                          -0.089   Prob(JB):                        0.716\n",
       "Kurtosis:                       2.779   Cond. No.                         338.\n",
       "==============================================================================\n",
       "\n",
       "Notes:\n",
       "[1] Standard Errors assume that the covariance matrix of the errors is correctly specified.\n",
       "\"\"\""
      ]
     },
     "execution_count": 12,
     "metadata": {},
     "output_type": "execute_result"
    }
   ],
   "source": [
    "linear_model.summary()"
   ]
  },
  {
   "cell_type": "markdown",
   "id": "140e644e",
   "metadata": {},
   "source": [
    "Los parámetros **AIC** y **BIC** son muy usados, un valor alto indica un buen modelo\n",
    "\n",
    "Para poder hacer **predicciones** con el modelo obtenido, haremos..."
   ]
  },
  {
   "cell_type": "code",
   "execution_count": 13,
   "id": "3819d6fe",
   "metadata": {},
   "outputs": [
    {
     "data": {
      "text/plain": [
       "0      17.970775\n",
       "1       9.147974\n",
       "2       7.850224\n",
       "3      14.234395\n",
       "4      15.627218\n",
       "         ...    \n",
       "195     8.848493\n",
       "196    11.510545\n",
       "197    15.446579\n",
       "198    20.513985\n",
       "199    18.065848\n",
       "Length: 200, dtype: float64"
      ]
     },
     "execution_count": 13,
     "metadata": {},
     "output_type": "execute_result"
    }
   ],
   "source": [
    "sales_prediction = linear_model.predict(data['TV'])\n",
    "sales_prediction"
   ]
  },
  {
   "cell_type": "markdown",
   "id": "2b0a4ec7",
   "metadata": {},
   "source": [
    "**Ahora vamos a visualizar si las predicciones son ajustadas o no...**"
   ]
  },
  {
   "cell_type": "code",
   "execution_count": 15,
   "id": "adfe97c5",
   "metadata": {},
   "outputs": [
    {
     "data": {
      "text/plain": [
       "[<matplotlib.lines.Line2D at 0x2666814a6a0>]"
      ]
     },
     "execution_count": 15,
     "metadata": {},
     "output_type": "execute_result"
    },
    {
     "data": {
      "image/png": "[encoded data removed]",
      "text/plain": [
       "<Figure size 432x288 with 1 Axes>"
      ]
     },
     "metadata": {
      "needs_background": "light"
     },
     "output_type": "display_data"
    }
   ],
   "source": [
    "import matplotlib.pyplot as plt\n",
    "\n",
    "%matplotlib inline\n",
    "\n",
    "data.plot(kind='scatter', x='TV', y='Sales')\n",
    "plt.plot(data['TV'], sales_prediction, color='red', linewidth=2)"
   ]
  },
  {
   "cell_type": "markdown",
   "id": "3bc5f0ae",
   "metadata": {},
   "source": [
    "**Vemos que el modelo se ajusta más o menos a los datos**"
   ]
  },
  {
   "cell_type": "code",
   "execution_count": 19,
   "id": "daaf3b12",
   "metadata": {},
   "outputs": [
    {
     "data": {
      "text/plain": [
       "3.258656368650463"
      ]
     },
     "execution_count": 19,
     "metadata": {},
     "output_type": "execute_result"
    }
   ],
   "source": [
    "data['Sales Predicted'] = sales_prediction\n",
    "data['RSE'] = (data['Sales']-data['Sales Predicted'])**2\n",
    "\n",
    "RSE = sqrt(sum(data['RSE'])/(len(data)-2))\n",
    "RSE"
   ]
  },
  {
   "cell_type": "markdown",
   "id": "4a0a29d5",
   "metadata": {},
   "source": [
    "**Vamos a poner el RSE frente al promedio de ventas para ver si es alto o bajo en comparación...**"
   ]
  },
  {
   "cell_type": "code",
   "execution_count": 24,
   "id": "737c4321",
   "metadata": {},
   "outputs": [
    {
     "name": "stdout",
     "output_type": "stream",
     "text": [
      "Nuestro modelo comete un error del 23.238768897489482%\n"
     ]
    }
   ],
   "source": [
    "mean_sales = mean(data['Sales'])\n",
    "error = (RSE/mean_sales)*100\n",
    "print(f'Nuestro modelo comete un error del {error}%')"
   ]
  },
  {
   "cell_type": "markdown",
   "id": "1f2f94c9",
   "metadata": {},
   "source": [
    "**O lo que es lo mismo, hay un 23% de la variación en los datos que el modelo no es capaz de predecir o explicar**\n",
    "\n",
    "## También es interesante visualizar la distribución del error del modelo..."
   ]
  },
  {
   "cell_type": "code",
   "execution_count": 26,
   "id": "10888592",
   "metadata": {},
   "outputs": [
    {
     "data": {
      "text/plain": [
       "(array([ 4., 10., 13., 17., 40., 42., 33., 16., 17.,  8.]),\n",
       " array([-8.38598196, -6.82614689, -5.26631183, -3.70647677, -2.14664171,\n",
       "        -0.58680664,  0.97302842,  2.53286348,  4.09269854,  5.65253361,\n",
       "         7.21236867]),\n",
       " <BarContainer object of 10 artists>)"
      ]
     },
     "execution_count": 26,
     "metadata": {},
     "output_type": "execute_result"
    },
    {
     "data": {
      "image/png": "[encoded data removed]",
      "text/plain": [
       "<Figure size 432x288 with 1 Axes>"
      ]
     },
     "metadata": {
      "needs_background": "light"
     },
     "output_type": "display_data"
    }
   ],
   "source": [
    "plt.hist(data['Sales']-data['Sales Predicted'])"
   ]
  }
 ],
 "metadata": {
  "kernelspec": {
   "display_name": "Python 3 (ipykernel)",
   "language": "python",
   "name": "python3"
  },
  "language_info": {
   "codemirror_mode": {
    "name": "ipython",
    "version": 3
   },
   "file_extension": ".py",
   "mimetype": "text/x-python",
   "name": "python",
   "nbconvert_exporter": "python",
   "pygments_lexer": "ipython3",
   "version": "3.9.7"
  }
 },
 "nbformat": 4,
 "nbformat_minor": 5
}
