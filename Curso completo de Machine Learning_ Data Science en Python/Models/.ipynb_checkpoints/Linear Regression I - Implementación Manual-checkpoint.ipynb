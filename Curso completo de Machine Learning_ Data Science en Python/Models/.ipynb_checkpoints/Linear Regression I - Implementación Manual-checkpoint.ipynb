{
 "cells": [
  {
   "cell_type": "markdown",
   "id": "4c1175df",
   "metadata": {},
   "source": [
    "# Linear Regression\n",
    "\n",
    "y = a + b*X\n",
    "\n",
    "El dataset que vamos a usar va a ser generado por nosotros (dummy)\n",
    "\n",
    "X : 100 valores distribuidos según una distribución normal N(1.5, 2.5)\n",
    "\n",
    "Vamos a elegir primeramente unos parámetros iniciales para el modelo, y luego aplicaremos la regresión lineal para obtener los parámetros óptimos y ver como disminuye el error con estos\n",
    "\n",
    "y = 5 + 1.9*X + <b>e</b>\n",
    "\n",
    "<b>e</b> es una componente de error distribuído por una normal N(0, 0.8)"
   ]
  },
  {
   "cell_type": "code",
   "execution_count": 1,
   "id": "6cae1d80",
   "metadata": {},
   "outputs": [],
   "source": [
    "import pandas as pd\n",
    "import numpy as np\n",
    "import matplotlib.pyplot as plt"
   ]
  },
  {
   "cell_type": "code",
   "execution_count": 2,
   "id": "861eab7b",
   "metadata": {},
   "outputs": [
    {
     "data": {
      "text/plain": [
       "(array([  3.,   9.,  16., 125., 215., 249., 217., 118.,  34.,  14.]),\n",
       " array([-8.12215265, -6.38691688, -4.65168111, -2.91644535, -1.18120958,\n",
       "         0.55402619,  2.28926196,  4.02449773,  5.7597335 ,  7.49496927,\n",
       "         9.23020503]),\n",
       " <BarContainer object of 10 artists>)"
      ]
     },
     "execution_count": 2,
     "metadata": {},
     "output_type": "execute_result"
    },
    {
     "data": {
      "image/png": "[encoded data removed]",
      "text/plain": [
       "<Figure size 432x288 with 1 Axes>"
      ]
     },
     "metadata": {
      "needs_background": "light"
     },
     "output_type": "display_data"
    }
   ],
   "source": [
    "# Creamos el Feature vector X\n",
    "X = 1.5 + 2.5*np.random.randn(1000)\n",
    "plt.hist(X)"
   ]
  },
  {
   "cell_type": "code",
   "execution_count": 3,
   "id": "124ad34f",
   "metadata": {},
   "outputs": [
    {
     "data": {
      "text/plain": [
       "(array([  3.,  24.,  66., 140., 214., 240., 186.,  96.,  24.,   7.]),\n",
       " array([-2.54558271, -2.05370477, -1.56182682, -1.06994888, -0.57807094,\n",
       "        -0.086193  ,  0.40568494,  0.89756288,  1.38944082,  1.88131876,\n",
       "         2.3731967 ]),\n",
       " <BarContainer object of 10 artists>)"
      ]
     },
     "execution_count": 3,
     "metadata": {},
     "output_type": "execute_result"
    },
    {
     "data": {
      "image/png": "[encoded data removed]",
      "text/plain": [
       "<Figure size 432x288 with 1 Axes>"
      ]
     },
     "metadata": {
      "needs_background": "light"
     },
     "output_type": "display_data"
    }
   ],
   "source": [
    "# Creamos los errores o residuos e del modelo\n",
    "e = 0 + 0.8*np.random.randn(1000)\n",
    "plt.hist(e)"
   ]
  },
  {
   "cell_type": "code",
   "execution_count": 4,
   "id": "4db163f4",
   "metadata": {},
   "outputs": [],
   "source": [
    "y_pred = 5 + 1.9*X\n",
    "y_pred = y_pred.tolist()"
   ]
  },
  {
   "cell_type": "code",
   "execution_count": 5,
   "id": "8858accc",
   "metadata": {},
   "outputs": [],
   "source": [
    "y_real = 5 + 1.9*X + e\n",
    "y_real = y_real.tolist()"
   ]
  },
  {
   "cell_type": "code",
   "execution_count": 6,
   "id": "6539a38b",
   "metadata": {},
   "outputs": [],
   "source": [
    "X = X.tolist()"
   ]
  },
  {
   "cell_type": "code",
   "execution_count": 7,
   "id": "d8bcf940",
   "metadata": {},
   "outputs": [
    {
     "data": {
      "text/html": [
       "<div>\n",
       "<style scoped>\n",
       "    .dataframe tbody tr th:only-of-type {\n",
       "        vertical-align: middle;\n",
       "    }\n",
       "\n",
       "    .dataframe tbody tr th {\n",
       "        vertical-align: top;\n",
       "    }\n",
       "\n",
       "    .dataframe thead th {\n",
       "        text-align: right;\n",
       "    }\n",
       "</style>\n",
       "<table border=\"1\" class=\"dataframe\">\n",
       "  <thead>\n",
       "    <tr style=\"text-align: right;\">\n",
       "      <th></th>\n",
       "      <th>X</th>\n",
       "      <th>Y</th>\n",
       "      <th>Predicted Y</th>\n",
       "    </tr>\n",
       "  </thead>\n",
       "  <tbody>\n",
       "    <tr>\n",
       "      <th>0</th>\n",
       "      <td>0.995278</td>\n",
       "      <td>5.833761</td>\n",
       "      <td>6.891028</td>\n",
       "    </tr>\n",
       "    <tr>\n",
       "      <th>1</th>\n",
       "      <td>-2.587443</td>\n",
       "      <td>-0.295696</td>\n",
       "      <td>0.083858</td>\n",
       "    </tr>\n",
       "    <tr>\n",
       "      <th>2</th>\n",
       "      <td>2.814579</td>\n",
       "      <td>10.765974</td>\n",
       "      <td>10.347701</td>\n",
       "    </tr>\n",
       "    <tr>\n",
       "      <th>3</th>\n",
       "      <td>3.958482</td>\n",
       "      <td>12.592199</td>\n",
       "      <td>12.521117</td>\n",
       "    </tr>\n",
       "    <tr>\n",
       "      <th>4</th>\n",
       "      <td>5.871244</td>\n",
       "      <td>17.717132</td>\n",
       "      <td>16.155365</td>\n",
       "    </tr>\n",
       "  </tbody>\n",
       "</table>\n",
       "</div>"
      ],
      "text/plain": [
       "          X          Y  Predicted Y\n",
       "0  0.995278   5.833761     6.891028\n",
       "1 -2.587443  -0.295696     0.083858\n",
       "2  2.814579  10.765974    10.347701\n",
       "3  3.958482  12.592199    12.521117\n",
       "4  5.871244  17.717132    16.155365"
      ]
     },
     "execution_count": 7,
     "metadata": {},
     "output_type": "execute_result"
    }
   ],
   "source": [
    "data = pd.DataFrame()\n",
    "data['X'] = X\n",
    "data['Y'] = y_real\n",
    "data['Predicted Y'] = y_pred\n",
    "data.head()"
   ]
  },
  {
   "cell_type": "code",
   "execution_count": 8,
   "id": "21a41e75",
   "metadata": {},
   "outputs": [
    {
     "data": {
      "image/png": "[encoded data removed]",
      "text/plain": [
       "<Figure size 432x288 with 1 Axes>"
      ]
     },
     "metadata": {
      "needs_background": "light"
     },
     "output_type": "display_data"
    }
   ],
   "source": [
    "y_mean = [np.mean(y_real) for i in range(0, len(y_real))]\n",
    "\n",
    "plt.plot(X, y_real, 'ro')\n",
    "plt.plot(X, y_pred, 'blue')\n",
    "plt.plot(X, y_mean, 'green')\n",
    "plt.title('Representación del Modelo')\n",
    "plt.show()"
   ]
  },
  {
   "cell_type": "markdown",
   "id": "429921c3",
   "metadata": {},
   "source": [
    "SSR Mean = Squared Errors Sum que desempeña la media como modelo \n",
    "\n",
    "SSR Model = Squared Errors Sum que desempeña el modelo"
   ]
  },
  {
   "cell_type": "code",
   "execution_count": 9,
   "id": "2e62e661",
   "metadata": {},
   "outputs": [],
   "source": [
    "data['SSR Model'] = (data['Y'] - data['Predicted Y'])**2\n",
    "data['SSR Mean'] = (data['Y'] - y_mean)**2"
   ]
  },
  {
   "cell_type": "code",
   "execution_count": 10,
   "id": "aa21ef4b",
   "metadata": {},
   "outputs": [],
   "source": [
    "SSR_Model = sum(data['SSR Model'])\n",
    "SSR_Mean = sum(data['SSR Mean'])"
   ]
  },
  {
   "cell_type": "code",
   "execution_count": 11,
   "id": "db4c098f",
   "metadata": {},
   "outputs": [
    {
     "name": "stdout",
     "output_type": "stream",
     "text": [
      "El modelo consigue reducir en un 97.523% el error cometido por la media\n"
     ]
    }
   ],
   "source": [
    "R2 = (SSR_Mean - SSR_Model)/SSR_Mean\n",
    "R2 = round(R2*100, 3)\n",
    "print(f'El modelo consigue reducir en un {R2}% el error cometido por la media')"
   ]
  },
  {
   "cell_type": "markdown",
   "id": "057987e2",
   "metadata": {},
   "source": [
    "## Teóricamente para una regresión lineal, el errror e que comete el modelo sigue una distribución normal, vamos a comprobar esto para el dataset dummy con el que estamos trabajando\n",
    "\n",
    "### Recordemos que en caso de que el error no siga una distribución normal, significará que el dataset no es lineal, o mejor dicho, la variable objetivo no es resultado de una combinación lineal de las variables explicativas"
   ]
  },
  {
   "cell_type": "code",
   "execution_count": 12,
   "id": "fdef1086",
   "metadata": {},
   "outputs": [
    {
     "data": {
      "text/plain": [
       "(array([  7.,  24.,  96., 186., 240., 214., 140.,  66.,  24.,   3.]),\n",
       " array([-2.3731967 , -1.88131876, -1.38944082, -0.89756288, -0.40568494,\n",
       "         0.086193  ,  0.57807094,  1.06994888,  1.56182682,  2.05370477,\n",
       "         2.54558271]),\n",
       " <BarContainer object of 10 artists>)"
      ]
     },
     "execution_count": 12,
     "metadata": {},
     "output_type": "execute_result"
    },
    {
     "data": {
      "image/png": "[encoded data removed]",
      "text/plain": [
       "<Figure size 432x288 with 1 Axes>"
      ]
     },
     "metadata": {
      "needs_background": "light"
     },
     "output_type": "display_data"
    }
   ],
   "source": [
    "error = data['Predicted Y'] - data['Y']\n",
    "plt.hist(error)"
   ]
  },
  {
   "cell_type": "markdown",
   "id": "62377c36",
   "metadata": {},
   "source": [
    "## Ahora, en vez de utilizar los parámetros de ejemplo (w = 1.9, b = 5), vamos a obtener los óptimos:"
   ]
  },
  {
   "cell_type": "code",
   "execution_count": 13,
   "id": "df16420d",
   "metadata": {},
   "outputs": [
    {
     "data": {
      "text/plain": [
       "(1.4910639202841778, 7.831989215290409, 1000)"
      ]
     },
     "execution_count": 13,
     "metadata": {},
     "output_type": "execute_result"
    }
   ],
   "source": [
    "# Como necesitaremos las medias para los calculos, vamos a definirlas en variables\n",
    "x_mean = np.mean(data['X'])\n",
    "y_mean = np.mean(data['Y'])\n",
    "# También el tamaño del dataset\n",
    "n = len(data)\n",
    "x_mean, y_mean, n"
   ]
  },
  {
   "cell_type": "markdown",
   "id": "aa10be20",
   "metadata": {},
   "source": [
    "### Para obtener la W óptima, dividimos la covarianza de X e Y por la varianza de X"
   ]
  },
  {
   "cell_type": "code",
   "execution_count": 14,
   "id": "aea06c32",
   "metadata": {},
   "outputs": [],
   "source": [
    "covarianza_XY = sum((data['X']-x_mean)*(data['Y']-y_mean))/n\n",
    "varianza_X = sum((data['X']-x_mean)**2)/n"
   ]
  },
  {
   "cell_type": "code",
   "execution_count": 15,
   "id": "2730a259",
   "metadata": {},
   "outputs": [
    {
     "data": {
      "text/plain": [
       "1.8917007102048562"
      ]
     },
     "execution_count": 15,
     "metadata": {},
     "output_type": "execute_result"
    }
   ],
   "source": [
    "w_optima = covarianza_XY/varianza_X\n",
    "w_optima"
   ]
  },
  {
   "cell_type": "markdown",
   "id": "292261b0",
   "metadata": {},
   "source": [
    "### Ahora sacamos la b óptima (mirar fórmula en apuntes)"
   ]
  },
  {
   "cell_type": "code",
   "execution_count": 16,
   "id": "3a32abf6",
   "metadata": {},
   "outputs": [
    {
     "data": {
      "text/plain": [
       "5.011342538327993"
      ]
     },
     "execution_count": 16,
     "metadata": {},
     "output_type": "execute_result"
    }
   ],
   "source": [
    "b_optima = y_mean - w_optima*x_mean\n",
    "b_optima"
   ]
  },
  {
   "cell_type": "code",
   "execution_count": 17,
   "id": "b80e1341",
   "metadata": {},
   "outputs": [
    {
     "name": "stdout",
     "output_type": "stream",
     "text": [
      "Valores óptimos: \n",
      "   -> W = 1.8917007102048562\n",
      "   -> b = 5.011342538327993\n",
      "El modelo resultante es: \n",
      "y = 1.8917007102048562x + 5.011342538327993\n"
     ]
    }
   ],
   "source": [
    "print(f'Valores óptimos: ')\n",
    "print(f'   -> W = {w_optima}')\n",
    "print(f'   -> b = {b_optima}')\n",
    "print(f'El modelo resultante es: ')\n",
    "print(f'y = {w_optima}x + {b_optima}')"
   ]
  },
  {
   "cell_type": "markdown",
   "id": "6d63dbe5",
   "metadata": {},
   "source": [
    "### Vamos a probar ahora el modelo con los parámetros nuevos obtenidos\n",
    "\n",
    "Para ello añadimos al dataset una columna con los valores y predichos por el modelo optimizado..."
   ]
  },
  {
   "cell_type": "code",
   "execution_count": 18,
   "id": "93c269b9",
   "metadata": {},
   "outputs": [],
   "source": [
    "data['y_optimized_model'] = w_optima*data['X'] + b_optima"
   ]
  },
  {
   "cell_type": "markdown",
   "id": "d4f8f466",
   "metadata": {},
   "source": [
    "Calculamos la suma de los residuos cuadrados de esta nueva columna"
   ]
  },
  {
   "cell_type": "code",
   "execution_count": 19,
   "id": "4494e0e6",
   "metadata": {},
   "outputs": [],
   "source": [
    "SSR_optimizedModel = sum((data['Y'] - data['y_optimized_model'])**2)"
   ]
  },
  {
   "cell_type": "code",
   "execution_count": 20,
   "id": "14800e45",
   "metadata": {},
   "outputs": [
    {
     "name": "stdout",
     "output_type": "stream",
     "text": [
      "El modelo optimizado consigue reducir en un 97.52472674625722% el error de la media\n"
     ]
    }
   ],
   "source": [
    "R2_optimized = (SSR_Mean - SSR_optimizedModel)/(SSR_Mean)\n",
    "R2_optimized_percent = R2_optimized*100\n",
    "print(f'El modelo optimizado consigue reducir en un {R2_optimized_percent}% el error de la media')"
   ]
  },
  {
   "cell_type": "markdown",
   "id": "28a4bff6",
   "metadata": {},
   "source": [
    "### Voy a comprobar que utilizando la librería de ScikitLearn salen los mismo parámetros"
   ]
  },
  {
   "cell_type": "code",
   "execution_count": 21,
   "id": "4c787854",
   "metadata": {
    "scrolled": true
   },
   "outputs": [],
   "source": [
    "from sklearn.linear_model import LinearRegression"
   ]
  },
  {
   "cell_type": "code",
   "execution_count": 22,
   "id": "69047b9c",
   "metadata": {
    "scrolled": false
   },
   "outputs": [
    {
     "name": "stdout",
     "output_type": "stream",
     "text": [
      "W: [[1.89170071]]\n",
      "b: [5.01134254]\n"
     ]
    }
   ],
   "source": [
    "model = LinearRegression()\n",
    "X = np.array(data['X']).reshape(-1,1)\n",
    "Y = np.array(data['Y']).reshape(-1,1)\n",
    "model.fit(X, Y)\n",
    "print(f'W: {model.coef_}')\n",
    "print(f'b: {model.intercept_}')"
   ]
  },
  {
   "cell_type": "markdown",
   "id": "ad17615b",
   "metadata": {},
   "source": [
    "#### Como vemos los valores salen EXACTAMENTE IGUALES a los obtenidos a través de las fórmulas"
   ]
  },
  {
   "cell_type": "markdown",
   "id": "d869cc35",
   "metadata": {},
   "source": [
    "## Vamos a ver ahora el Error Estándar de los Residuos o Residual Standard Error"
   ]
  },
  {
   "cell_type": "code",
   "execution_count": 23,
   "id": "0ee00685",
   "metadata": {},
   "outputs": [
    {
     "name": "stdout",
     "output_type": "stream",
     "text": [
      "Tenemos un RSE de 0.6185154215619904\n"
     ]
    }
   ],
   "source": [
    "RSE = SSR_optimizedModel/(len(data) - 2)\n",
    "print(f'Tenemos un RSE de {RSE}')"
   ]
  },
  {
   "cell_type": "markdown",
   "id": "f384ca0e",
   "metadata": {},
   "source": [
    "### Si vemos la media de las Y, y observando el error estándar obtenido, podemos concluir que no es muy alto"
   ]
  },
  {
   "cell_type": "code",
   "execution_count": 24,
   "id": "3101b901",
   "metadata": {},
   "outputs": [
    {
     "data": {
      "text/plain": [
       "7.831989215290409"
      ]
     },
     "execution_count": 24,
     "metadata": {},
     "output_type": "execute_result"
    }
   ],
   "source": [
    "np.mean(Y)"
   ]
  }
 ],
 "metadata": {
  "kernelspec": {
   "display_name": "Python 3 (ipykernel)",
   "language": "python",
   "name": "python3"
  },
  "language_info": {
   "codemirror_mode": {
    "name": "ipython",
    "version": 3
   },
   "file_extension": ".py",
   "mimetype": "text/x-python",
   "name": "python",
   "nbconvert_exporter": "python",
   "pygments_lexer": "ipython3",
   "version": "3.9.7"
  }
 },
 "nbformat": 4,
 "nbformat_minor": 5
}
