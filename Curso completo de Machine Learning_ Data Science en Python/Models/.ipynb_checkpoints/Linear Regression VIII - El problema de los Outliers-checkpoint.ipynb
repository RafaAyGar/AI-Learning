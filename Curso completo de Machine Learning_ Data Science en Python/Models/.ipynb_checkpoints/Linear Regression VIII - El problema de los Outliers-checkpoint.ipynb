{
 "cells": [
  {
   "cell_type": "markdown",
   "id": "b868002f",
   "metadata": {},
   "source": [
    "# El problema de los Outliers\n",
    "\n",
    "**Ocurre en muchos datasets, que existen puntos que difieren de forma considerable del resto rompiendo así con el patrón. La existencia de estos puntos puede suponer una disminución palpable en la precisión del modelo.\n",
    "Es un factor que tenemos que tener en cuenta, normalmente echándole un vistazo a los datos ya podemos intuir si existe o no algún outlier**"
   ]
  },
  {
   "cell_type": "code",
   "execution_count": 6,
   "id": "ade970a6",
   "metadata": {},
   "outputs": [],
   "source": [
    "import pandas as pd\n",
    "import numpy as np\n",
    "import matplotlib.pyplot as plt\n",
    "from sklearn.linear_model import LinearRegression"
   ]
  },
  {
   "cell_type": "code",
   "execution_count": 3,
   "id": "27c4c37f",
   "metadata": {},
   "outputs": [],
   "source": [
    "data = pd.read_csv('../datasets/auto/auto-mpg.csv')"
   ]
  },
  {
   "cell_type": "code",
   "execution_count": 4,
   "id": "6a491cc8",
   "metadata": {},
   "outputs": [
    {
     "data": {
      "image/png": "[encoded data removed]",
      "text/plain": [
       "<Figure size 432x288 with 1 Axes>"
      ]
     },
     "metadata": {
      "needs_background": "light"
     },
     "output_type": "display_data"
    }
   ],
   "source": [
    "%matplotlib inline\n",
    "plt.plot(data['displacement'], data['mpg'], 'ro')\n",
    "plt.show()"
   ]
  },
  {
   "cell_type": "markdown",
   "id": "16583f97",
   "metadata": {},
   "source": [
    "### Pueden observarse algunos puntos que se separan de forma considerable de la nube\n",
    "### Vamos a probar primero a construir un modelo de regresión lineal incluyendo los outliers a ver cómo rinde el modelo"
   ]
  },
  {
   "cell_type": "code",
   "execution_count": 9,
   "id": "56628003",
   "metadata": {},
   "outputs": [
    {
     "data": {
      "text/plain": [
       "0.6261049762826918"
      ]
     },
     "execution_count": 9,
     "metadata": {},
     "output_type": "execute_result"
    }
   ],
   "source": [
    "X = data['displacement'].fillna(data['displacement'].mean())\n",
    "X = X.values.reshape(-1,1)\n",
    "Y = data['mpg'].fillna(data['mpg'].mean())\n",
    "\n",
    "model = LinearRegression().fit(X, Y)\n",
    "model.score(X, Y)"
   ]
  },
  {
   "cell_type": "markdown",
   "id": "0eb1b898",
   "metadata": {},
   "source": [
    "### Ahora habría que probar sin los outliers pero paso..."
   ]
  }
 ],
 "metadata": {
  "kernelspec": {
   "display_name": "Python 3 (ipykernel)",
   "language": "python",
   "name": "python3"
  },
  "language_info": {
   "codemirror_mode": {
    "name": "ipython",
    "version": 3
   },
   "file_extension": ".py",
   "mimetype": "text/x-python",
   "name": "python",
   "nbconvert_exporter": "python",
   "pygments_lexer": "ipython3",
   "version": "3.9.7"
  }
 },
 "nbformat": 4,
 "nbformat_minor": 5
}
