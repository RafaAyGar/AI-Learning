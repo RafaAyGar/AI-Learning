{
 "cells": [
  {
   "cell_type": "markdown",
   "id": "a038a401",
   "metadata": {},
   "source": [
    "# Tratamiento de Variables Categóricas en Python"
   ]
  },
  {
   "cell_type": "code",
   "execution_count": 1,
   "id": "ba4e1ded",
   "metadata": {},
   "outputs": [],
   "source": [
    "import pandas as pd\n",
    "import numpy as np\n",
    "from sklearn.linear_model import LinearRegression"
   ]
  },
  {
   "cell_type": "code",
   "execution_count": 2,
   "id": "3dd3864a",
   "metadata": {},
   "outputs": [],
   "source": [
    "data = pd.read_csv('../datasets/ecom-expense/Ecom Expense.csv')"
   ]
  },
  {
   "cell_type": "markdown",
   "id": "14aded2b",
   "metadata": {},
   "source": [
    "### Necesitamos crear 2 variables dummy, una para el sexo, y otra para el tier de la ciudad"
   ]
  },
  {
   "cell_type": "code",
   "execution_count": 3,
   "id": "a0218740",
   "metadata": {},
   "outputs": [],
   "source": [
    "dummy_gender = pd.get_dummies(data['Gender'], prefix='Gender')\n",
    "dummy_cityTier = pd.get_dummies(data['City Tier'], prefix='City')"
   ]
  },
  {
   "cell_type": "code",
   "execution_count": 4,
   "id": "3cdf7d17",
   "metadata": {},
   "outputs": [],
   "source": [
    "new_data = data.join([dummy_gender, dummy_cityTier])"
   ]
  },
  {
   "cell_type": "markdown",
   "id": "113e801f",
   "metadata": {},
   "source": [
    "### Vamos a crear el set de variables predictoras X"
   ]
  },
  {
   "cell_type": "code",
   "execution_count": 5,
   "id": "33580993",
   "metadata": {},
   "outputs": [
    {
     "data": {
      "text/html": [
       "<div>\n",
       "<style scoped>\n",
       "    .dataframe tbody tr th:only-of-type {\n",
       "        vertical-align: middle;\n",
       "    }\n",
       "\n",
       "    .dataframe tbody tr th {\n",
       "        vertical-align: top;\n",
       "    }\n",
       "\n",
       "    .dataframe thead th {\n",
       "        text-align: right;\n",
       "    }\n",
       "</style>\n",
       "<table border=\"1\" class=\"dataframe\">\n",
       "  <thead>\n",
       "    <tr style=\"text-align: right;\">\n",
       "      <th></th>\n",
       "      <th>Monthly Income</th>\n",
       "      <th>Transaction Time</th>\n",
       "      <th>Gender_Male</th>\n",
       "      <th>Gender_Female</th>\n",
       "      <th>City_Tier 1</th>\n",
       "      <th>City_Tier 2</th>\n",
       "      <th>City_Tier 3</th>\n",
       "      <th>Record</th>\n",
       "    </tr>\n",
       "  </thead>\n",
       "  <tbody>\n",
       "    <tr>\n",
       "      <th>0</th>\n",
       "      <td>7313</td>\n",
       "      <td>627.668127</td>\n",
       "      <td>0</td>\n",
       "      <td>1</td>\n",
       "      <td>1</td>\n",
       "      <td>0</td>\n",
       "      <td>0</td>\n",
       "      <td>5</td>\n",
       "    </tr>\n",
       "    <tr>\n",
       "      <th>1</th>\n",
       "      <td>17747</td>\n",
       "      <td>126.904567</td>\n",
       "      <td>0</td>\n",
       "      <td>1</td>\n",
       "      <td>0</td>\n",
       "      <td>1</td>\n",
       "      <td>0</td>\n",
       "      <td>3</td>\n",
       "    </tr>\n",
       "    <tr>\n",
       "      <th>2</th>\n",
       "      <td>22845</td>\n",
       "      <td>873.469701</td>\n",
       "      <td>1</td>\n",
       "      <td>0</td>\n",
       "      <td>0</td>\n",
       "      <td>1</td>\n",
       "      <td>0</td>\n",
       "      <td>2</td>\n",
       "    </tr>\n",
       "    <tr>\n",
       "      <th>3</th>\n",
       "      <td>18552</td>\n",
       "      <td>380.219428</td>\n",
       "      <td>0</td>\n",
       "      <td>1</td>\n",
       "      <td>1</td>\n",
       "      <td>0</td>\n",
       "      <td>0</td>\n",
       "      <td>7</td>\n",
       "    </tr>\n",
       "    <tr>\n",
       "      <th>4</th>\n",
       "      <td>14439</td>\n",
       "      <td>403.374223</td>\n",
       "      <td>0</td>\n",
       "      <td>1</td>\n",
       "      <td>0</td>\n",
       "      <td>1</td>\n",
       "      <td>0</td>\n",
       "      <td>2</td>\n",
       "    </tr>\n",
       "  </tbody>\n",
       "</table>\n",
       "</div>"
      ],
      "text/plain": [
       "   Monthly Income  Transaction Time  Gender_Male  Gender_Female  City_Tier 1  \\\n",
       "0            7313        627.668127            0              1            1   \n",
       "1           17747        126.904567            0              1            0   \n",
       "2           22845        873.469701            1              0            0   \n",
       "3           18552        380.219428            0              1            1   \n",
       "4           14439        403.374223            0              1            0   \n",
       "\n",
       "   City_Tier 2  City_Tier 3  Record  \n",
       "0            0            0       5  \n",
       "1            1            0       3  \n",
       "2            1            0       2  \n",
       "3            0            0       7  \n",
       "4            1            0       2  "
      ]
     },
     "execution_count": 5,
     "metadata": {},
     "output_type": "execute_result"
    }
   ],
   "source": [
    "feature_cols = ['Monthly Income', 'Transaction Time', \n",
    "                'Gender_Male', 'Gender_Female',\n",
    "                'City_Tier 1', 'City_Tier 2', 'City_Tier 3',\n",
    "                'Record']\n",
    "X = pd.DataFrame(new_data[feature_cols])\n",
    "X.head()"
   ]
  },
  {
   "cell_type": "markdown",
   "id": "453620c7",
   "metadata": {},
   "source": [
    "### Creamos ahora el set de la variable a predecir Y"
   ]
  },
  {
   "cell_type": "code",
   "execution_count": 6,
   "id": "7bafd818",
   "metadata": {},
   "outputs": [],
   "source": [
    "Y = new_data['Total Spend']"
   ]
  },
  {
   "cell_type": "code",
   "execution_count": 7,
   "id": "043c7def",
   "metadata": {},
   "outputs": [
    {
     "name": "stdout",
     "output_type": "stream",
     "text": [
      "Bias = -79.41713030137271\n",
      "Coefficients = [ 1.47538980e-01  1.54946125e-01  1.31025013e+02 -1.31025013e+02\n",
      "  7.67643260e+01  5.51389743e+01 -1.31903300e+02  7.72233446e+02]\n",
      "---------------------------------------\n",
      "R2 = 0.9179923586131016\n"
     ]
    }
   ],
   "source": [
    "lm = LinearRegression()\n",
    "lm.fit(X, Y)\n",
    "print(f'Bias = {lm.intercept_}')\n",
    "print(f'Coefficients = {lm.coef_}')\n",
    "print('---------------------------------------')\n",
    "print(f'R2 = {lm.score(X, Y)}')"
   ]
  },
  {
   "cell_type": "markdown",
   "id": "b84fce33",
   "metadata": {},
   "source": [
    "**Hay una forma de visualizar mejor los coeficientes, que es con la función zip**"
   ]
  },
  {
   "cell_type": "code",
   "execution_count": 8,
   "id": "da4793b3",
   "metadata": {},
   "outputs": [
    {
     "data": {
      "text/plain": [
       "[('Monthly Income', 0.1475389804920574),\n",
       " ('Transaction Time', 0.15494612549589615),\n",
       " ('Gender_Male', 131.02501325554562),\n",
       " ('Gender_Female', -131.02501325554562),\n",
       " ('City_Tier 1', 76.76432601049517),\n",
       " ('City_Tier 2', 55.13897430923272),\n",
       " ('City_Tier 3', -131.90330031972783),\n",
       " ('Record', 772.2334457445645)]"
      ]
     },
     "execution_count": 8,
     "metadata": {},
     "output_type": "execute_result"
    }
   ],
   "source": [
    "list(zip(feature_cols, lm.coef_))"
   ]
  },
  {
   "cell_type": "markdown",
   "id": "f7f0c9cb",
   "metadata": {},
   "source": [
    "### Podemos comprobar que la suma de los coeficientes de las variables dummy da cero tanto para el sexo como para el city tier"
   ]
  },
  {
   "cell_type": "markdown",
   "id": "e011a4a6",
   "metadata": {},
   "source": [
    "### Las variables dummy pueden simplificarse, esto se hace eliminando una de ellas.\n",
    "### Esto puede hacerse debido a que la eliminada puede inferirse de las otras, esto se vé muy claro en variables categóricas binarias como las de Sexo"
   ]
  },
  {
   "cell_type": "code",
   "execution_count": 9,
   "id": "36eb0c8a",
   "metadata": {},
   "outputs": [
    {
     "data": {
      "text/html": [
       "<div>\n",
       "<style scoped>\n",
       "    .dataframe tbody tr th:only-of-type {\n",
       "        vertical-align: middle;\n",
       "    }\n",
       "\n",
       "    .dataframe tbody tr th {\n",
       "        vertical-align: top;\n",
       "    }\n",
       "\n",
       "    .dataframe thead th {\n",
       "        text-align: right;\n",
       "    }\n",
       "</style>\n",
       "<table border=\"1\" class=\"dataframe\">\n",
       "  <thead>\n",
       "    <tr style=\"text-align: right;\">\n",
       "      <th></th>\n",
       "      <th>Gender_Female</th>\n",
       "    </tr>\n",
       "  </thead>\n",
       "  <tbody>\n",
       "    <tr>\n",
       "      <th>0</th>\n",
       "      <td>1</td>\n",
       "    </tr>\n",
       "    <tr>\n",
       "      <th>1</th>\n",
       "      <td>1</td>\n",
       "    </tr>\n",
       "    <tr>\n",
       "      <th>2</th>\n",
       "      <td>0</td>\n",
       "    </tr>\n",
       "    <tr>\n",
       "      <th>3</th>\n",
       "      <td>1</td>\n",
       "    </tr>\n",
       "    <tr>\n",
       "      <th>4</th>\n",
       "      <td>1</td>\n",
       "    </tr>\n",
       "  </tbody>\n",
       "</table>\n",
       "</div>"
      ],
      "text/plain": [
       "   Gender_Female\n",
       "0              1\n",
       "1              1\n",
       "2              0\n",
       "3              1\n",
       "4              1"
      ]
     },
     "execution_count": 9,
     "metadata": {},
     "output_type": "execute_result"
    }
   ],
   "source": [
    "gender_dummies = pd.get_dummies(data['Gender'], prefix='Gender').iloc[:, :-1]\n",
    "gender_dummies.head()"
   ]
  },
  {
   "cell_type": "markdown",
   "id": "506e209f",
   "metadata": {},
   "source": [
    "### Si el Gender_Female es 1, es fácil inferir que el Gender_Male será 0, ya que no puede tener los 2 sexos a la vez.\n",
    "### Por ello lo que hacemos directamente es eliminar una de estas columnas ya que no está aportando información nueva\n",
    "### Lo mismo para el City Tier"
   ]
  },
  {
   "cell_type": "code",
   "execution_count": 10,
   "id": "be7ba8a6",
   "metadata": {},
   "outputs": [
    {
     "data": {
      "text/html": [
       "<div>\n",
       "<style scoped>\n",
       "    .dataframe tbody tr th:only-of-type {\n",
       "        vertical-align: middle;\n",
       "    }\n",
       "\n",
       "    .dataframe tbody tr th {\n",
       "        vertical-align: top;\n",
       "    }\n",
       "\n",
       "    .dataframe thead th {\n",
       "        text-align: right;\n",
       "    }\n",
       "</style>\n",
       "<table border=\"1\" class=\"dataframe\">\n",
       "  <thead>\n",
       "    <tr style=\"text-align: right;\">\n",
       "      <th></th>\n",
       "      <th>City_Tier 1</th>\n",
       "      <th>City_Tier 2</th>\n",
       "    </tr>\n",
       "  </thead>\n",
       "  <tbody>\n",
       "    <tr>\n",
       "      <th>0</th>\n",
       "      <td>1</td>\n",
       "      <td>0</td>\n",
       "    </tr>\n",
       "    <tr>\n",
       "      <th>1</th>\n",
       "      <td>0</td>\n",
       "      <td>1</td>\n",
       "    </tr>\n",
       "    <tr>\n",
       "      <th>2</th>\n",
       "      <td>0</td>\n",
       "      <td>1</td>\n",
       "    </tr>\n",
       "    <tr>\n",
       "      <th>3</th>\n",
       "      <td>1</td>\n",
       "      <td>0</td>\n",
       "    </tr>\n",
       "    <tr>\n",
       "      <th>4</th>\n",
       "      <td>0</td>\n",
       "      <td>1</td>\n",
       "    </tr>\n",
       "  </tbody>\n",
       "</table>\n",
       "</div>"
      ],
      "text/plain": [
       "   City_Tier 1  City_Tier 2\n",
       "0            1            0\n",
       "1            0            1\n",
       "2            0            1\n",
       "3            1            0\n",
       "4            0            1"
      ]
     },
     "execution_count": 10,
     "metadata": {},
     "output_type": "execute_result"
    }
   ],
   "source": [
    "cityTier_dummies = pd.get_dummies(data['City Tier'], prefix='City').iloc[:, :-1]\n",
    "cityTier_dummies.head()"
   ]
  },
  {
   "cell_type": "markdown",
   "id": "2c170792",
   "metadata": {},
   "source": [
    "### Vamos a volver a crear el modelo pero con las variables dummies simplificadas"
   ]
  },
  {
   "cell_type": "code",
   "execution_count": 11,
   "id": "2fed70b4",
   "metadata": {},
   "outputs": [
    {
     "data": {
      "text/html": [
       "<div>\n",
       "<style scoped>\n",
       "    .dataframe tbody tr th:only-of-type {\n",
       "        vertical-align: middle;\n",
       "    }\n",
       "\n",
       "    .dataframe tbody tr th {\n",
       "        vertical-align: top;\n",
       "    }\n",
       "\n",
       "    .dataframe thead th {\n",
       "        text-align: right;\n",
       "    }\n",
       "</style>\n",
       "<table border=\"1\" class=\"dataframe\">\n",
       "  <thead>\n",
       "    <tr style=\"text-align: right;\">\n",
       "      <th></th>\n",
       "      <th>Transaction ID</th>\n",
       "      <th>Age</th>\n",
       "      <th>Items</th>\n",
       "      <th>Monthly Income</th>\n",
       "      <th>Transaction Time</th>\n",
       "      <th>Record</th>\n",
       "      <th>Gender</th>\n",
       "      <th>City Tier</th>\n",
       "      <th>Total Spend</th>\n",
       "      <th>Gender_Female</th>\n",
       "      <th>City_Tier 1</th>\n",
       "      <th>City_Tier 2</th>\n",
       "    </tr>\n",
       "  </thead>\n",
       "  <tbody>\n",
       "    <tr>\n",
       "      <th>0</th>\n",
       "      <td>TXN001</td>\n",
       "      <td>42</td>\n",
       "      <td>10</td>\n",
       "      <td>7313</td>\n",
       "      <td>627.668127</td>\n",
       "      <td>5</td>\n",
       "      <td>Female</td>\n",
       "      <td>Tier 1</td>\n",
       "      <td>4198.385084</td>\n",
       "      <td>1</td>\n",
       "      <td>1</td>\n",
       "      <td>0</td>\n",
       "    </tr>\n",
       "    <tr>\n",
       "      <th>1</th>\n",
       "      <td>TXN002</td>\n",
       "      <td>24</td>\n",
       "      <td>8</td>\n",
       "      <td>17747</td>\n",
       "      <td>126.904567</td>\n",
       "      <td>3</td>\n",
       "      <td>Female</td>\n",
       "      <td>Tier 2</td>\n",
       "      <td>4134.976648</td>\n",
       "      <td>1</td>\n",
       "      <td>0</td>\n",
       "      <td>1</td>\n",
       "    </tr>\n",
       "    <tr>\n",
       "      <th>2</th>\n",
       "      <td>TXN003</td>\n",
       "      <td>47</td>\n",
       "      <td>11</td>\n",
       "      <td>22845</td>\n",
       "      <td>873.469701</td>\n",
       "      <td>2</td>\n",
       "      <td>Male</td>\n",
       "      <td>Tier 2</td>\n",
       "      <td>5166.614455</td>\n",
       "      <td>0</td>\n",
       "      <td>0</td>\n",
       "      <td>1</td>\n",
       "    </tr>\n",
       "    <tr>\n",
       "      <th>3</th>\n",
       "      <td>TXN004</td>\n",
       "      <td>50</td>\n",
       "      <td>11</td>\n",
       "      <td>18552</td>\n",
       "      <td>380.219428</td>\n",
       "      <td>7</td>\n",
       "      <td>Female</td>\n",
       "      <td>Tier 1</td>\n",
       "      <td>7784.447676</td>\n",
       "      <td>1</td>\n",
       "      <td>1</td>\n",
       "      <td>0</td>\n",
       "    </tr>\n",
       "    <tr>\n",
       "      <th>4</th>\n",
       "      <td>TXN005</td>\n",
       "      <td>60</td>\n",
       "      <td>2</td>\n",
       "      <td>14439</td>\n",
       "      <td>403.374223</td>\n",
       "      <td>2</td>\n",
       "      <td>Female</td>\n",
       "      <td>Tier 2</td>\n",
       "      <td>3254.160485</td>\n",
       "      <td>1</td>\n",
       "      <td>0</td>\n",
       "      <td>1</td>\n",
       "    </tr>\n",
       "  </tbody>\n",
       "</table>\n",
       "</div>"
      ],
      "text/plain": [
       "  Transaction ID  Age    Items   Monthly Income  Transaction Time  Record  \\\n",
       "0         TXN001    42       10            7313        627.668127       5   \n",
       "1         TXN002    24        8           17747        126.904567       3   \n",
       "2         TXN003    47       11           22845        873.469701       2   \n",
       "3         TXN004    50       11           18552        380.219428       7   \n",
       "4         TXN005    60        2           14439        403.374223       2   \n",
       "\n",
       "   Gender City Tier  Total Spend  Gender_Female  City_Tier 1  City_Tier 2  \n",
       "0  Female    Tier 1  4198.385084              1            1            0  \n",
       "1  Female    Tier 2  4134.976648              1            0            1  \n",
       "2    Male    Tier 2  5166.614455              0            0            1  \n",
       "3  Female    Tier 1  7784.447676              1            1            0  \n",
       "4  Female    Tier 2  3254.160485              1            0            1  "
      ]
     },
     "execution_count": 11,
     "metadata": {},
     "output_type": "execute_result"
    }
   ],
   "source": [
    "new_data_2 = data.join([gender_dummies, cityTier_dummies])\n",
    "new_data_2.head()"
   ]
  },
  {
   "cell_type": "code",
   "execution_count": 12,
   "id": "92a70bf0",
   "metadata": {},
   "outputs": [
    {
     "data": {
      "text/html": [
       "<div>\n",
       "<style scoped>\n",
       "    .dataframe tbody tr th:only-of-type {\n",
       "        vertical-align: middle;\n",
       "    }\n",
       "\n",
       "    .dataframe tbody tr th {\n",
       "        vertical-align: top;\n",
       "    }\n",
       "\n",
       "    .dataframe thead th {\n",
       "        text-align: right;\n",
       "    }\n",
       "</style>\n",
       "<table border=\"1\" class=\"dataframe\">\n",
       "  <thead>\n",
       "    <tr style=\"text-align: right;\">\n",
       "      <th></th>\n",
       "      <th>Monthly Income</th>\n",
       "      <th>Transaction Time</th>\n",
       "      <th>Gender_Female</th>\n",
       "      <th>City_Tier 1</th>\n",
       "      <th>City_Tier 2</th>\n",
       "      <th>Record</th>\n",
       "    </tr>\n",
       "  </thead>\n",
       "  <tbody>\n",
       "    <tr>\n",
       "      <th>0</th>\n",
       "      <td>7313</td>\n",
       "      <td>627.668127</td>\n",
       "      <td>1</td>\n",
       "      <td>1</td>\n",
       "      <td>0</td>\n",
       "      <td>5</td>\n",
       "    </tr>\n",
       "    <tr>\n",
       "      <th>1</th>\n",
       "      <td>17747</td>\n",
       "      <td>126.904567</td>\n",
       "      <td>1</td>\n",
       "      <td>0</td>\n",
       "      <td>1</td>\n",
       "      <td>3</td>\n",
       "    </tr>\n",
       "    <tr>\n",
       "      <th>2</th>\n",
       "      <td>22845</td>\n",
       "      <td>873.469701</td>\n",
       "      <td>0</td>\n",
       "      <td>0</td>\n",
       "      <td>1</td>\n",
       "      <td>2</td>\n",
       "    </tr>\n",
       "    <tr>\n",
       "      <th>3</th>\n",
       "      <td>18552</td>\n",
       "      <td>380.219428</td>\n",
       "      <td>1</td>\n",
       "      <td>1</td>\n",
       "      <td>0</td>\n",
       "      <td>7</td>\n",
       "    </tr>\n",
       "    <tr>\n",
       "      <th>4</th>\n",
       "      <td>14439</td>\n",
       "      <td>403.374223</td>\n",
       "      <td>1</td>\n",
       "      <td>0</td>\n",
       "      <td>1</td>\n",
       "      <td>2</td>\n",
       "    </tr>\n",
       "  </tbody>\n",
       "</table>\n",
       "</div>"
      ],
      "text/plain": [
       "   Monthly Income  Transaction Time  Gender_Female  City_Tier 1  City_Tier 2  \\\n",
       "0            7313        627.668127              1            1            0   \n",
       "1           17747        126.904567              1            0            1   \n",
       "2           22845        873.469701              0            0            1   \n",
       "3           18552        380.219428              1            1            0   \n",
       "4           14439        403.374223              1            0            1   \n",
       "\n",
       "   Record  \n",
       "0       5  \n",
       "1       3  \n",
       "2       2  \n",
       "3       7  \n",
       "4       2  "
      ]
     },
     "execution_count": 12,
     "metadata": {},
     "output_type": "execute_result"
    }
   ],
   "source": [
    "feature_cols = ['Monthly Income', 'Transaction Time', \n",
    "                'Gender_Female',\n",
    "                'City_Tier 1', 'City_Tier 2',\n",
    "                'Record']\n",
    "X = new_data_2[feature_cols]\n",
    "X.head()"
   ]
  },
  {
   "cell_type": "code",
   "execution_count": 13,
   "id": "8202cf8b",
   "metadata": {},
   "outputs": [
    {
     "name": "stdout",
     "output_type": "stream",
     "text": [
      "Bias = -80.29541736554984\n",
      "Coefficients = [ 1.47538980e-01  1.54946125e-01 -2.62050027e+02  2.08667626e+02\n",
      "  1.87042275e+02  7.72233446e+02]\n",
      "---------------------------------------\n",
      "R2 = 0.9179923586131016\n"
     ]
    }
   ],
   "source": [
    "lm2 = LinearRegression()\n",
    "lm2.fit(X, Y)\n",
    "print(f'Bias = {lm2.intercept_}')\n",
    "print(f'Coefficients = {lm2.coef_}')\n",
    "print('---------------------------------------')\n",
    "print(f'R2 = {lm2.score(X, Y)}')"
   ]
  },
  {
   "cell_type": "markdown",
   "id": "2469ee90",
   "metadata": {},
   "source": [
    "### El modelo rinde igual de bien que antes de simplificar, pero ahora, ahorramos en recursos al entrenarlo y testearlo con un dataset reducido"
   ]
  }
 ],
 "metadata": {
  "kernelspec": {
   "display_name": "Python 3 (ipykernel)",
   "language": "python",
   "name": "python3"
  },
  "language_info": {
   "codemirror_mode": {
    "name": "ipython",
    "version": 3
   },
   "file_extension": ".py",
   "mimetype": "text/x-python",
   "name": "python",
   "nbconvert_exporter": "python",
   "pygments_lexer": "ipython3",
   "version": "3.9.7"
  }
 },
 "nbformat": 4,
 "nbformat_minor": 5
}
