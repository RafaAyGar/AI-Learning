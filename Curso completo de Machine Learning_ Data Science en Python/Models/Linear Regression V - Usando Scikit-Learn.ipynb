{
 "cells": [
  {
   "cell_type": "markdown",
   "id": "2c04fd3f",
   "metadata": {},
   "source": [
    "# Regresión Lineal usando la librería Scikit-Learn"
   ]
  },
  {
   "cell_type": "code",
   "execution_count": 2,
   "id": "5a8b0409",
   "metadata": {},
   "outputs": [],
   "source": [
    "from sklearn.feature_selection import RFE # Recursive Feature Elimination\n",
    "from sklearn.svm import SVR\n",
    "import pandas as pd\n",
    "import numpy as np"
   ]
  },
  {
   "cell_type": "code",
   "execution_count": 3,
   "id": "0feb7785",
   "metadata": {},
   "outputs": [],
   "source": [
    "data = pd.read_csv(\"../datasets/ads/advertising.csv\")"
   ]
  },
  {
   "cell_type": "code",
   "execution_count": 4,
   "id": "d4ff9c43",
   "metadata": {},
   "outputs": [],
   "source": [
    "feature_cols = ['TV', 'Radio', 'Newspaper']"
   ]
  },
  {
   "cell_type": "code",
   "execution_count": 5,
   "id": "dc2278f1",
   "metadata": {},
   "outputs": [],
   "source": [
    "X = data[feature_cols]\n",
    "Y = data['Sales']"
   ]
  },
  {
   "cell_type": "markdown",
   "id": "e63437bb",
   "metadata": {},
   "source": [
    "## Vamos a realizar un proceso que escoge a las mejores feature variables, descartando las que no aportan información\n",
    "\n",
    "**Para ello usamos la función Resursive Feature Elimination (RFE), a la que le pasamos:**\n",
    "* En estimador, que establecerá el tipo de aprendizaje en el que estamos trabajando, en este caso lineal\n",
    "* Un integer que indica el número de feature variables que queremos que tenga nuestro modelo\n",
    "* Un integer que indica el número de veces que queremos que se repita el proceso de optimización que encuentra las mejoras feature variables\n",
    "\n",
    "**Finalmente, con la función fit(), entrenamos el modelo con las variables escogidas en el proceso anterior**"
   ]
  },
  {
   "cell_type": "code",
   "execution_count": 7,
   "id": "d7e21382",
   "metadata": {},
   "outputs": [],
   "source": [
    "estimator = SVR(kernel='linear')\n",
    "selector = RFE(estimator, n_features_to_select=2, step=1)\n",
    "selector = selector.fit(X, Y)"
   ]
  },
  {
   "cell_type": "markdown",
   "id": "da6348f3",
   "metadata": {},
   "source": [
    "## Una vez hecho lo anterior ahora podemos ver qué variables son las escogidas, podemos hacer esto con..."
   ]
  },
  {
   "cell_type": "code",
   "execution_count": 9,
   "id": "b0206cb1",
   "metadata": {},
   "outputs": [
    {
     "data": {
      "text/plain": [
       "array([ True,  True, False])"
      ]
     },
     "execution_count": 9,
     "metadata": {},
     "output_type": "execute_result"
    }
   ],
   "source": [
    "selector.support_"
   ]
  },
  {
   "cell_type": "markdown",
   "id": "93f3fbdd",
   "metadata": {},
   "source": [
    "**El array resultante indica, en el orden de las columnas del dataset, cuáles han sido escogidas (True), y cuáles no (False)**"
   ]
  },
  {
   "cell_type": "markdown",
   "id": "cc114091",
   "metadata": {},
   "source": [
    "## La variable \"selector\", nos ha servido para encontrar las mejores feature variables, ahora, vamos a crear un modelo de regresión lineal con scikit-learn que las utilice"
   ]
  },
  {
   "cell_type": "code",
   "execution_count": 13,
   "id": "380def20",
   "metadata": {},
   "outputs": [],
   "source": [
    "from sklearn.linear_model import LinearRegression"
   ]
  },
  {
   "cell_type": "markdown",
   "id": "6e3f4d28",
   "metadata": {},
   "source": [
    "**Ya sabemos que las mejores variables predictoras son (TV, Radio)**"
   ]
  },
  {
   "cell_type": "code",
   "execution_count": 14,
   "id": "ced8cb6b",
   "metadata": {},
   "outputs": [],
   "source": [
    "X = X[['TV', 'Radio']]"
   ]
  },
  {
   "cell_type": "code",
   "execution_count": 17,
   "id": "103b5b56",
   "metadata": {},
   "outputs": [
    {
     "data": {
      "text/plain": [
       "0.8971942610828956"
      ]
     },
     "execution_count": 17,
     "metadata": {},
     "output_type": "execute_result"
    }
   ],
   "source": [
    "model = LinearRegression()\n",
    "model.fit(X, Y)\n",
    "model.score(X, Y)"
   ]
  },
  {
   "cell_type": "code",
   "execution_count": null,
   "id": "534779ed",
   "metadata": {},
   "outputs": [],
   "source": []
  }
 ],
 "metadata": {
  "kernelspec": {
   "display_name": "Python 3 (ipykernel)",
   "language": "python",
   "name": "python3"
  },
  "language_info": {
   "codemirror_mode": {
    "name": "ipython",
    "version": 3
   },
   "file_extension": ".py",
   "mimetype": "text/x-python",
   "name": "python",
   "nbconvert_exporter": "python",
   "pygments_lexer": "ipython3",
   "version": "3.9.7"
  }
 },
 "nbformat": 4,
 "nbformat_minor": 5
}
